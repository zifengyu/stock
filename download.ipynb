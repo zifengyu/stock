{
 "cells": [
  {
   "cell_type": "code",
   "execution_count": 1,
   "id": "a3cecd32-cae2-4138-884c-976031e3a6f4",
   "metadata": {},
   "outputs": [],
   "source": [
    "%load_ext autoreload\n",
    "%autoreload 2"
   ]
  },
  {
   "cell_type": "code",
   "execution_count": 2,
   "id": "08a9d49b-216c-4eb7-a999-39d9557d5884",
   "metadata": {},
   "outputs": [],
   "source": [
    "import json\n",
    "import os\n",
    "import requests\n",
    "import time"
   ]
  },
  {
   "cell_type": "code",
   "execution_count": 3,
   "id": "c5a8fd27-4d2c-41ed-be22-ea4c8b561635",
   "metadata": {},
   "outputs": [],
   "source": [
    "def download_file(url, file_name):\n",
    "    resp = requests.get(url=url)\n",
    "    with open(file_name, \"wb\") as f:\n",
    "        f.write(resp.content)\n",
    "        \n",
    "\n",
    "def get_org_id(code):\n",
    "    query_url = 'http://www.cninfo.com.cn/new/information/topSearch/query?keyWord={}&maxNum=10'\n",
    "    resp = requests.post(url=query_url.format(code))\n",
    "    assert(resp.ok)\n",
    "    \n",
    "    results = json.loads(resp.content)\n",
    "    for r in results:\n",
    "        if r.get('category') == 'A股':\n",
    "            return r['orgId']\n",
    "        \n",
    "    print('Could not find orgId for {}'.format(code))\n",
    "    \n",
    "    \n",
    "def get_announcements(code):\n",
    "    query_url = 'http://www.cninfo.com.cn/new/hisAnnouncement/query'\n",
    "    \n",
    "    org_id = get_org_id(code)\n",
    "    payload = {\"stock\": \"{},{}\".format(code, org_id), \"category\": \"category_ndbg_szsh;\", \"tabName\": \"fulltext\"}\n",
    "    \n",
    "    resp = requests.post(url=query_url, data=payload)\n",
    "    assert(resp.ok)\n",
    "    \n",
    "    result = json.loads(resp.content)\n",
    "    \n",
    "    return result[\"announcements\"]\n",
    "\n",
    "\n",
    "def download_annual_reports(code):\n",
    "    download_url = 'http://static.cninfo.com.cn/{}'\n",
    "    path = '/Users/yuzifeng/GitHub/stock/notebook'   \n",
    "    \n",
    "    announcements = get_announcements(code)\n",
    "    \n",
    "    if len(announcements) == 0:\n",
    "        print('Nothing to download')\n",
    "        return\n",
    "    \n",
    "    sec_name = announcements[0]['secName']\n",
    "    path = os.path.join(path, '{} {}'.format(code, sec_name))\n",
    "    if not os.path.exists(path):\n",
    "        print(\"Create folder {}\".format(path))\n",
    "        os.makedirs(path)\n",
    "        \n",
    "    for report in announcements:\n",
    "        title = report['announcementTitle']\n",
    "        file_path = os.path.join(path, title + '.pdf')\n",
    "        if '年度报告' in title and '摘要' not in title and '财务' not in title and not os.path.exists(file_path):\n",
    "            print('Download {}'.format(file_path))\n",
    "            download_file(download_url.format(report['adjunctUrl']), file_path)\n",
    "            time.sleep(1)\n",
    "        \n",
    "    print('Download finished.')\n",
    "\n",
    "            \n",
    "assert(get_org_id('600858') == 'gssh0600858')"
   ]
  },
  {
   "cell_type": "code",
   "execution_count": 4,
   "id": "d66cd9e7-0c71-4c0a-8665-a5ed880011ec",
   "metadata": {},
   "outputs": [
    {
     "name": "stdout",
     "output_type": "stream",
     "text": [
      "Create folder /Users/yuzifeng/GitHub/stock/notebook/600582 天地科技\n",
      "Download /Users/yuzifeng/GitHub/stock/notebook/600582 天地科技/天地科技2021年年度报告.pdf\n",
      "Download /Users/yuzifeng/GitHub/stock/notebook/600582 天地科技/天地科技2020年年度报告.pdf\n",
      "Download /Users/yuzifeng/GitHub/stock/notebook/600582 天地科技/2019年年度报告.pdf\n",
      "Download /Users/yuzifeng/GitHub/stock/notebook/600582 天地科技/2018年年度报告.pdf\n",
      "Download /Users/yuzifeng/GitHub/stock/notebook/600582 天地科技/2017年年度报告.pdf\n",
      "Download /Users/yuzifeng/GitHub/stock/notebook/600582 天地科技/2016年年度报告.pdf\n",
      "Download /Users/yuzifeng/GitHub/stock/notebook/600582 天地科技/2015年年度报告.pdf\n",
      "Download /Users/yuzifeng/GitHub/stock/notebook/600582 天地科技/2014年年度报告（更新版）.pdf\n",
      "Download /Users/yuzifeng/GitHub/stock/notebook/600582 天地科技/2014年年度报告.pdf\n",
      "Download /Users/yuzifeng/GitHub/stock/notebook/600582 天地科技/2013年年度报告.pdf\n",
      "Download /Users/yuzifeng/GitHub/stock/notebook/600582 天地科技/2012年年度报告.pdf\n",
      "Download finished.\n"
     ]
    }
   ],
   "source": [
    "#下载年度报告\n",
    "download_annual_reports('600582')\n"
   ]
  }
 ],
 "metadata": {
  "kernelspec": {
   "display_name": "Python 3 (ipykernel)",
   "language": "python",
   "name": "python3"
  },
  "language_info": {
   "codemirror_mode": {
    "name": "ipython",
    "version": 3
   },
   "file_extension": ".py",
   "mimetype": "text/x-python",
   "name": "python",
   "nbconvert_exporter": "python",
   "pygments_lexer": "ipython3",
   "version": "3.10.5"
  }
 },
 "nbformat": 4,
 "nbformat_minor": 5
}
