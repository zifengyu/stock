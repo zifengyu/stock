{
 "cells": [
  {
   "cell_type": "code",
   "execution_count": 2,
   "metadata": {},
   "outputs": [],
   "source": [
    "%load_ext autoreload\n",
    "%autoreload 2\n",
    "\n",
    "import pandas as pd\n",
    "import script.data as data"
   ]
  },
  {
   "cell_type": "code",
   "execution_count": 6,
   "metadata": {},
   "outputs": [],
   "source": [
    "data.merge_data()\n"
   ]
  },
  {
   "cell_type": "code",
   "execution_count": 36,
   "metadata": {},
   "outputs": [
    {
     "name": "stdout",
     "output_type": "stream",
     "text": [
      "155\n"
     ]
    }
   ],
   "source": [
    "# 连续year，净利润增长>25%\n",
    "year = 3\n",
    "delta = 0\n",
    "df = data.get_IS()\n",
    "grouped = df.groupby('股票代码')\n",
    "iq_tickers = []\n",
    "for t, group in grouped:\n",
    "    if len(group) > year+delta and group['归属于母公司所有者的净利润'].pct_change(periods=-1)[delta:delta+year].min() > 0.25:\n",
    "        last = group\n",
    "        if not t.startswith('A') and not t.startswith('300') and not t.startswith('900'):\n",
    "            iq_tickers.append(t)\n",
    "print(len(iq_tickers))"
   ]
  },
  {
   "cell_type": "code",
   "execution_count": 38,
   "metadata": {},
   "outputs": [
    {
     "name": "stdout",
     "output_type": "stream",
     "text": [
      "80\n"
     ]
    }
   ],
   "source": [
    "# quarter，收入/净利润增长>25%\n",
    "quarter = 2\n",
    "delta = 0\n",
    "\n",
    "isq = data.get_ISQ()\n",
    "grouped = isq.groupby('股票代码')\n",
    "isq_tickers = []\n",
    "for t, group in grouped:\n",
    "    if (len(group) >= quarter+delta+4 and \n",
    "        group['归属于母公司所有者的净利润'].pct_change(periods=-4)[delta:quarter+delta].min() > 0.25 and \n",
    "        group['营业收入'].pct_change(periods=-4)[delta:quarter+delta].min() > 0.25):\n",
    "        last = group\n",
    "        if not t.startswith('A') and not t.startswith('300') and not t.startswith('900'):\n",
    "            isq_tickers.append(t)\n",
    "print(len(isq_tickers))"
   ]
  },
  {
   "cell_type": "code",
   "execution_count": 48,
   "metadata": {},
   "outputs": [
    {
     "data": {
      "text/plain": [
       "{'000975',\n",
       " '002371',\n",
       " '002475',\n",
       " '002768',\n",
       " '603127',\n",
       " '603613',\n",
       " '603713',\n",
       " '605168',\n",
       " '688002',\n",
       " '688026',\n",
       " '688111',\n",
       " '688166',\n",
       " '688399'}"
      ]
     },
     "execution_count": 48,
     "metadata": {},
     "output_type": "execute_result"
    }
   ],
   "source": [
    "set(isq_tickers).intersection(set(iq_tickers))"
   ]
  },
  {
   "cell_type": "code",
   "execution_count": 5,
   "metadata": {},
   "outputs": [],
   "source": [
    "df = data.get_market()"
   ]
  },
  {
   "cell_type": "code",
   "execution_count": 9,
   "metadata": {},
   "outputs": [
    {
     "data": {
      "text/plain": [
       "array(['688002', '688399', '002371', '603127', '002475', '605168',\n",
       "       '603713', '002768', '603613', '000975', '688026', '688111',\n",
       "       '688166', '600566', '000858', '002258', '603043', '603338',\n",
       "       '603826', '002281', '002643', '002916', '600104', '600604',\n",
       "       '000568', '002016', '600507', '600519', '600872', '601566',\n",
       "       '603288'], dtype=object)"
      ]
     },
     "execution_count": 9,
     "metadata": {},
     "output_type": "execute_result"
    }
   ],
   "source": [
    "df['通用交易代码'].unique()"
   ]
  },
  {
   "cell_type": "code",
   "execution_count": 29,
   "metadata": {},
   "outputs": [],
   "source": [
    "data1 = pd.read_csv('/Users/yuzifeng/GitHub/stock/data/isq/isq.csv', dtype={'ticker': str})\n",
    "data2 = pd.read_csv('/Users/yuzifeng/GitHub/stock/data/isq/isq-20070331-20200930.csv', dtype={'ticker': str})"
   ]
  },
  {
   "cell_type": "code",
   "execution_count": 30,
   "metadata": {},
   "outputs": [
    {
     "name": "stdout",
     "output_type": "stream",
     "text": [
      "(158303, 46)\n",
      "(158293, 46)\n"
     ]
    }
   ],
   "source": [
    "print(data1.shape)\n",
    "print(data2.shape)"
   ]
  },
  {
   "cell_type": "code",
   "execution_count": 19,
   "metadata": {},
   "outputs": [
    {
     "data": {
      "text/plain": [
       "secID                         000001.XSHE\n",
       "publishDate                    2020-02-14\n",
       "endDate                        2019-12-31\n",
       "endDateRep                     2019-12-31\n",
       "partyID                                 2\n",
       "ticker                             000001\n",
       "secShortName                         平安银行\n",
       "exchangeCD                           XSHE\n",
       "actPubtime            2020-02-13 19:02:36\n",
       "mergedFlag                              1\n",
       "reportType                              A\n",
       "fiscalPeriod                           12\n",
       "accoutingStandards              CHAS_2007\n",
       "currencyCD                            CNY\n",
       "tRevenue                      1.37958e+11\n",
       "revenue                       1.37958e+11\n",
       "intIncome                      8.9961e+10\n",
       "intExp                                NaN\n",
       "premEarned                            NaN\n",
       "commisIncome                   3.6743e+10\n",
       "commisExp                             NaN\n",
       "TCogs                         1.01669e+11\n",
       "COGS                          1.01669e+11\n",
       "premRefund                            NaN\n",
       "NCompensPayout                        NaN\n",
       "reserInsurContr                       NaN\n",
       "policyDivPayt                         NaN\n",
       "reinsurExp                            NaN\n",
       "bizTaxSurchg                     1.29e+09\n",
       "sellExp                               NaN\n",
       "adminExp                              NaN\n",
       "finanExp                              NaN\n",
       "assetsImpairLoss                1.056e+09\n",
       "fValueChgGain                     4.9e+07\n",
       "investIncome                     9.71e+09\n",
       "AJInvestIncome                        NaN\n",
       "forexGain                       1.196e+09\n",
       "assetsDispGain                     -3e+07\n",
       "othGain                          2.19e+08\n",
       "operateProfit                  3.6289e+10\n",
       "NoperateIncome                    9.9e+07\n",
       "NoperateExp                      1.48e+08\n",
       "NCADisploss                           NaN\n",
       "TProfit                         3.624e+10\n",
       "incomeTax                       8.045e+09\n",
       "NIncome                        2.8195e+10\n",
       "goingConcernNI                 2.8195e+10\n",
       "quitConcernNI                         NaN\n",
       "NIncomeAttrP                   2.8195e+10\n",
       "minorityGain                          NaN\n",
       "basicEPS                             1.54\n",
       "dilutedEPS                           1.45\n",
       "othComprIncome                  1.528e+09\n",
       "TComprIncome                   2.9723e+10\n",
       "comprIncAttrP                  2.9723e+10\n",
       "comprIncAttrMS                        NaN\n",
       "updateTime            2020-02-13 19:33:23\n",
       "Name: 0, dtype: object"
      ]
     },
     "execution_count": 19,
     "metadata": {},
     "output_type": "execute_result"
    }
   ],
   "source": [
    "data2.iloc[0]"
   ]
  },
  {
   "cell_type": "code",
   "execution_count": null,
   "metadata": {},
   "outputs": [],
   "source": []
  }
 ],
 "metadata": {
  "kernelspec": {
   "display_name": "Python 3",
   "language": "python",
   "name": "python3"
  },
  "language_info": {
   "codemirror_mode": {
    "name": "ipython",
    "version": 3
   },
   "file_extension": ".py",
   "mimetype": "text/x-python",
   "name": "python",
   "nbconvert_exporter": "python",
   "pygments_lexer": "ipython3",
   "version": "3.8.3"
  }
 },
 "nbformat": 4,
 "nbformat_minor": 4
}
