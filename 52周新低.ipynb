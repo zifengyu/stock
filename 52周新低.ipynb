{
 "cells": [
  {
   "cell_type": "code",
   "execution_count": 2,
   "id": "22357f0a-c39b-439e-9222-df4d8eac6175",
   "metadata": {},
   "outputs": [],
   "source": [
    "import datetime\n",
    "import random\n",
    "import time\n",
    "import baostock as bs\n",
    "import pandas as pd\n",
    "from pandas.tseries.offsets import BDay\n",
    "from tqdm import tqdm"
   ]
  },
  {
   "cell_type": "code",
   "execution_count": 3,
   "id": "9c358994-27f0-42e0-8112-3da83415ee3a",
   "metadata": {},
   "outputs": [],
   "source": [
    "def near_year_lowest_price(code, threshold=0.1):\n",
    "    start = (datetime.date.today() - datetime.timedelta(weeks=52)).isoformat()\n",
    "    rs = bs.query_history_k_data_plus(code, \"close\", start, \"\", adjustflag=\"2\")\n",
    "    stock_price = rs.get_data()\n",
    "    if 'close' not in stock_price:\n",
    "        return False\n",
    "    lowest = stock_price['close'][:].astype('float64').min()\n",
    "    latest = stock_price['close'].astype('float64').iloc[-1]\n",
    "    return lowest * (1 + threshold) > latest\n",
    "\n",
    "\n",
    "def get_stock_list():\n",
    "    today = datetime.datetime.today()\n",
    "    trade_day = (today - BDay(1)).strftime('%Y-%m-%d')\n",
    "    print(\"交易日\", trade_day)\n",
    "    stocks = []\n",
    "    l = bs.login()\n",
    "    rs = bs.query_all_stock(trade_day)\n",
    "    while (rs.error_code == '0') & rs.next():\n",
    "        stocks.append(rs.get_row_data())            \n",
    "    l = bs.logout()\n",
    "    \n",
    "    result = pd.DataFrame(stocks, columns=rs.fields)\n",
    "    result = result[['code', 'code_name']]\n",
    "    result = result[result['code_name'].str.contains('指数') == False]\n",
    "    result = result[result['code_name'].str.contains('债') == False]\n",
    "    return result\n"
   ]
  },
  {
   "cell_type": "code",
   "execution_count": 4,
   "id": "a64c2299-f2ff-47da-aa86-e859079756ab",
   "metadata": {
    "scrolled": true
   },
   "outputs": [
    {
     "name": "stdout",
     "output_type": "stream",
     "text": [
      "交易日 2024-08-16\n",
      "login success!\n",
      "logout success!\n",
      "股票数 5186\n",
      "login success!\n"
     ]
    },
    {
     "name": "stderr",
     "output_type": "stream",
     "text": [
      "100%|████████████████████████████████████████████████████████████████████████████████████████████████████████████████████████████████████████████████████████████████████████████████████████████████████████████████████████████████████████| 5186/5186 [05:07<00:00, 16.87it/s]"
     ]
    },
    {
     "name": "stdout",
     "output_type": "stream",
     "text": [
      "logout success!\n",
      "低价股票数 1881\n"
     ]
    },
    {
     "name": "stderr",
     "output_type": "stream",
     "text": [
      "\n"
     ]
    }
   ],
   "source": [
    "stock_list = get_stock_list()\n",
    "print(\"股票数\", len(stock_list))\n",
    "\n",
    "near_low_list = []\n",
    "code_name_list = []\n",
    "black_list = pd.read_csv('blacklist.csv')\n",
    "l = bs.login()\n",
    "for i in tqdm(range(len(stock_list))):\n",
    "    code = stock_list.iloc[i]['code']\n",
    "    code_name = stock_list.iloc[i]['code_name']\n",
    "    if code in black_list['code'].values:\n",
    "        continue\n",
    "        \n",
    "    if near_year_lowest_price(code):\n",
    "        near_low_list.append(code)\n",
    "        code_name_list.append(code_name)\n",
    "        \n",
    "    if i % 57 == 48:\n",
    "        time.sleep(random.random() * 2)\n",
    "l = bs.logout()\n",
    "print(\"低价股票数\", len(near_low_list))\n",
    "\n",
    "d = {'code': near_low_list, 'code_name': code_name_list}\n",
    "df = pd.DataFrame(data=d)\n",
    "df.to_csv('low_price_stock_list.csv', index=False)"
   ]
  },
  {
   "cell_type": "code",
   "execution_count": null,
   "id": "cafffe98-4d08-4dcb-ae2c-4d3d75605138",
   "metadata": {},
   "outputs": [],
   "source": []
  }
 ],
 "metadata": {
  "kernelspec": {
   "display_name": "Python 3 (ipykernel)",
   "language": "python",
   "name": "python3"
  },
  "language_info": {
   "codemirror_mode": {
    "name": "ipython",
    "version": 3
   },
   "file_extension": ".py",
   "mimetype": "text/x-python",
   "name": "python",
   "nbconvert_exporter": "python",
   "pygments_lexer": "ipython3",
   "version": "3.10.14"
  }
 },
 "nbformat": 4,
 "nbformat_minor": 5
}
