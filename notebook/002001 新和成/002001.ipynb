{
 "cells": [
  {
   "cell_type": "markdown",
   "metadata": {},
   "source": [
    "### 002001 新和成\n",
    "##### 加权平均净资产收益率\n",
    "\n",
    "| 2019 | 2018 | 2017 |\n",
    "| ---- | ---- | ---- |\n",
    "| 13.24% | 20.54% | 19.87% |"
   ]
  },
  {
   "cell_type": "markdown",
   "metadata": {},
   "source": [
    "##### 2020-12-19\n",
    "* 收入增长较为一般，2019年内销+11%，外销-24%\n",
    "* 行业需求增长一般。2019年我国食品添加剂、香精香料市场增长+7~8%。"
   ]
  },
  {
   "cell_type": "code",
   "execution_count": 12,
   "metadata": {},
   "outputs": [],
   "source": [
    "ticker = '002001'"
   ]
  },
  {
   "cell_type": "code",
   "execution_count": 13,
   "metadata": {},
   "outputs": [
    {
     "data": {
      "text/html": [
       "<style>\n",
       "table {float:left}\n",
       "</style>\n"
      ],
      "text/plain": [
       "<IPython.core.display.HTML object>"
      ]
     },
     "metadata": {},
     "output_type": "display_data"
    }
   ],
   "source": [
    "%%html\n",
    "<style>\n",
    "table {float:left}\n",
    "</style>"
   ]
  },
  {
   "cell_type": "code",
   "execution_count": 14,
   "metadata": {},
   "outputs": [
    {
     "name": "stdout",
     "output_type": "stream",
     "text": [
      "The autoreload extension is already loaded. To reload it, use:\n",
      "  %reload_ext autoreload\n"
     ]
    }
   ],
   "source": [
    "%load_ext autoreload\n",
    "%autoreload 2\n",
    "\n",
    "import os\n",
    "import sys\n",
    "import pandas as pd\n",
    "import matplotlib.pyplot as plt\n",
    "import baostock\n",
    "\n",
    "sys.path.append(os.path.join(os.path.expanduser('~'), 'GitHub', 'stock'))\n",
    "import script.data as data\n",
    "import script.utils as utils\n",
    "import script.bsutil as bu\n",
    "from script.figure import draw"
   ]
  },
  {
   "cell_type": "code",
   "execution_count": null,
   "metadata": {},
   "outputs": [
    {
     "name": "stdout",
     "output_type": "stream",
     "text": [
      "login success!\n"
     ]
    }
   ],
   "source": [
    "baostock.login()\n",
    "code = bu.get_bs_code(ticker)\n",
    "income = data.get_IS(ticker)\n",
    "incomeq = data.get_ISQ(ticker)\n",
    "mkt = bu.get_price_daily(code)\n",
    "bs = data.get_BS(ticker)\n",
    "baostock.logout()"
   ]
  },
  {
   "cell_type": "code",
   "execution_count": null,
   "metadata": {},
   "outputs": [],
   "source": [
    "change = utils.column_pct(income[['营业总收入', '营业总成本', '归属于母公司所有者的净利润']], periods=-1)\n",
    "income_change = pd.concat([income[['截止日期', '基本每股收益', '稀释每股收益']], change], axis=1)\n",
    "income_change.set_index('截止日期')"
   ]
  },
  {
   "cell_type": "code",
   "execution_count": null,
   "metadata": {},
   "outputs": [],
   "source": [
    "change = utils.column_pct(incomeq[['营业收入', '归属于母公司所有者的净利润']], periods=-4)\n",
    "incomeq_change = pd.concat([incomeq[['截止日期']], change], axis=1)\n",
    "incomeq_change[:24].set_index('截止日期')"
   ]
  },
  {
   "cell_type": "code",
   "execution_count": null,
   "metadata": {},
   "outputs": [],
   "source": [
    "plt.figure(figsize=(15,10))\n",
    "ax = plt.subplot(211)\n",
    "plt.plot(incomeq['截止日期'][::-1], incomeq['营业收入'][::-1], 'b-')\n",
    "ax.set_yscale(\"log\")\n",
    "ax.grid(True, which='both', axis='both')\n",
    "ax = plt.subplot(212)\n",
    "plt.plot(incomeq['截止日期'][::-1], incomeq['归属于母公司所有者的净利润'][::-1], 'g-')\n",
    "ax.set_yscale(\"log\")\n",
    "ax.grid(True, which='both', axis='both')\n",
    "plt.xticks(rotation=90)\n",
    "plt.subplots_adjust(hspace=.0)\n",
    "plt.show()"
   ]
  },
  {
   "cell_type": "code",
   "execution_count": null,
   "metadata": {},
   "outputs": [],
   "source": [
    "income['毛利率'] = (1 - income['营业成本'] / income['营业收入']).round(3) * 100\n",
    "income['净利率'] = (income['净利润'] / income['营业总收入']).round(3) * 100\n",
    "income.set_index('截止日期')[['毛利率', '净利率']]"
   ]
  },
  {
   "cell_type": "code",
   "execution_count": null,
   "metadata": {},
   "outputs": [],
   "source": [
    "change = utils.column_pct(bs[['存货', '应付账款', '应收账款']], periods=-1)\n",
    "bs_change = pd.concat([bs[['截止日期']], change], axis=1)\n",
    "bs_change.set_index('截止日期', inplace=True)\n",
    "change = utils.column_pct(income[['营业收入']], periods=-1)\n",
    "income_change = pd.concat([income[['截止日期']], change], axis=1)\n",
    "income_change.set_index('截止日期', inplace=True)\n",
    "pd.concat([income_change, bs_change], axis=1)"
   ]
  },
  {
   "cell_type": "code",
   "execution_count": null,
   "metadata": {},
   "outputs": [],
   "source": [
    "mkt['前复权'] = mkt['close'].round(2)\n",
    "mkt['滚动市盈率'] = mkt['peTTM'].round(1)\n",
    "mkt['交易日期'] = pd.to_datetime(mkt['date'])\n",
    "df = mkt[['前复权', '滚动市盈率']].groupby(mkt['交易日期'].dt.year).agg(['min', 'max', 'first', 'last'])[-10:]\n",
    "df['前复权增长'] = df['前复权'][['first', 'last']].apply(lambda x: round((x[1]-x[0])/x[0] * 100,1), axis=1)\n",
    "df.drop(columns=[('前复权', 'min'), ('前复权', 'max'), ('滚动市盈率', 'first'), ('滚动市盈率', 'last')])\n"
   ]
  },
  {
   "cell_type": "code",
   "execution_count": null,
   "metadata": {},
   "outputs": [],
   "source": [
    "draw(mkt, 260, 200, 20)"
   ]
  }
 ],
 "metadata": {
  "kernelspec": {
   "display_name": "Python 3",
   "language": "python",
   "name": "python3"
  },
  "language_info": {
   "codemirror_mode": {
    "name": "ipython",
    "version": 3
   },
   "file_extension": ".py",
   "mimetype": "text/x-python",
   "name": "python",
   "nbconvert_exporter": "python",
   "pygments_lexer": "ipython3",
   "version": "3.8.5"
  }
 },
 "nbformat": 4,
 "nbformat_minor": 4
}
