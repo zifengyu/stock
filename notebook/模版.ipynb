{
 "cells": [
  {
   "cell_type": "markdown",
   "metadata": {},
   "source": [
    "### 603826 坤彩科技\n",
    "##### 加权平均净资产收益率\n",
    "\n",
    "| 2019 | 2018 | 2017 |\n",
    "| ---- | ---- | ---- |\n",
    "| 25.50% | 21.81% | 20.30% |"
   ]
  },
  {
   "cell_type": "markdown",
   "metadata": {},
   "source": [
    "##### 2020-11-02\n",
    "* 最初模版"
   ]
  },
  {
   "cell_type": "code",
   "execution_count": null,
   "metadata": {},
   "outputs": [],
   "source": [
    "ticker = '603826'"
   ]
  },
  {
   "cell_type": "code",
   "execution_count": null,
   "metadata": {},
   "outputs": [],
   "source": [
    "%%html\n",
    "<style>\n",
    "table {float:left}\n",
    "</style>"
   ]
  },
  {
   "cell_type": "code",
   "execution_count": null,
   "metadata": {},
   "outputs": [],
   "source": [
    "%load_ext autoreload\n",
    "%autoreload 2\n",
    "\n",
    "import os\n",
    "import sys\n",
    "import pandas as pd\n",
    "import matplotlib.pyplot as plt\n",
    "\n",
    "sys.path.append(os.path.join(os.path.expanduser('~'), 'GitHub', 'stock'))\n",
    "import script.data as data\n",
    "import script.utils as utils"
   ]
  },
  {
   "cell_type": "code",
   "execution_count": null,
   "metadata": {},
   "outputs": [],
   "source": [
    "income = data.get_IS(ticker)\n",
    "incomeq = data.get_ISQ(ticker)\n",
    "mkt = data.get_market(ticker)\n",
    "bs = data.get_BS(ticker)"
   ]
  },
  {
   "cell_type": "code",
   "execution_count": null,
   "metadata": {},
   "outputs": [],
   "source": [
    "change = utils.column_pct(income[['营业总收入', '营业总成本', '归属于母公司所有者的净利润']], periods=-1)\n",
    "income_change = pd.concat([income[['截止日期', '基本每股收益', '稀释每股收益']], change], axis=1)\n",
    "income_change.set_index('截止日期')"
   ]
  },
  {
   "cell_type": "code",
   "execution_count": null,
   "metadata": {},
   "outputs": [],
   "source": [
    "change = utils.column_pct(incomeq[['营业收入', '归属于母公司所有者的净利润']], periods=-4)\n",
    "incomeq_change = pd.concat([incomeq[['截止日期']], change], axis=1)\n",
    "incomeq_change[:24].set_index('截止日期')"
   ]
  },
  {
   "cell_type": "code",
   "execution_count": null,
   "metadata": {},
   "outputs": [],
   "source": [
    "plt.figure(figsize=(15,10))\n",
    "ax = plt.subplot(211)\n",
    "plt.plot(incomeq['截止日期'][::-1], incomeq['营业收入'][::-1], 'b-')\n",
    "ax.set_yscale(\"log\")\n",
    "ax.grid(True, which='both', axis='both')\n",
    "ax = plt.subplot(212)\n",
    "plt.plot(incomeq['截止日期'][::-1], incomeq['归属于母公司所有者的净利润'][::-1], 'g-')\n",
    "ax.set_yscale(\"log\")\n",
    "ax.grid(True, which='both', axis='both')\n",
    "plt.xticks(rotation=90)\n",
    "plt.subplots_adjust(hspace=.0)\n",
    "plt.show()"
   ]
  },
  {
   "cell_type": "code",
   "execution_count": null,
   "metadata": {},
   "outputs": [],
   "source": [
    "income['毛利率'] = (1 - income['营业成本'] / income['营业收入']).round(3) * 100\n",
    "income['净利率'] = (income['净利润'] / income['营业总收入']).round(3) * 100\n",
    "income.set_index('截止日期')[['毛利率', '净利率']]"
   ]
  },
  {
   "cell_type": "code",
   "execution_count": null,
   "metadata": {},
   "outputs": [],
   "source": [
    "change = utils.column_pct(bs[['存货', '应付账款', '应收账款']], periods=-1)\n",
    "bs_change = pd.concat([bs[['截止日期']], change], axis=1)\n",
    "bs_change.set_index('截止日期', inplace=True)\n",
    "change = utils.column_pct(income[['营业收入']], periods=-1)\n",
    "income_change = pd.concat([income[['截止日期']], change], axis=1)\n",
    "income_change.set_index('截止日期', inplace=True)\n",
    "pd.concat([income_change, bs_change], axis=1)"
   ]
  },
  {
   "cell_type": "code",
   "execution_count": null,
   "metadata": {},
   "outputs": [],
   "source": [
    "mkt['前复权'] = mkt['收盘价'] * mkt['累积前复权因子']\n",
    "mkt['前复权'] = mkt['前复权'].round(2)\n",
    "mkt['滚动市盈率'] = mkt['滚动市盈率'].round(1)\n",
    "df = mkt[['收盘价', '滚动市盈率', '前复权']].groupby(mkt['交易日期'].dt.year).agg(['min', 'max', 'first', 'last'])[-10:]\n",
    "df['前复权增长'] = df['前复权'][['first', 'last']].apply(lambda x: round((x[1]-x[0])/x[0] * 100,1), axis=1)\n",
    "df.drop(columns=[('收盘价', 'min'), ('收盘价', 'max'), ('前复权', 'min'), ('前复权', 'max'), ('滚动市盈率', 'first'), ('滚动市盈率', 'last')])"
   ]
  }
 ],
 "metadata": {
  "kernelspec": {
   "display_name": "Python 3",
   "language": "python",
   "name": "python3"
  },
  "language_info": {
   "codemirror_mode": {
    "name": "ipython",
    "version": 3
   },
   "file_extension": ".py",
   "mimetype": "text/x-python",
   "name": "python",
   "nbconvert_exporter": "python",
   "pygments_lexer": "ipython3",
   "version": "3.8.3"
  }
 },
 "nbformat": 4,
 "nbformat_minor": 4
}
