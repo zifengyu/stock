{
 "cells": [
  {
   "cell_type": "markdown",
   "metadata": {},
   "source": [
    "### 688002 睿创微纳\n",
    "\n",
    "##### 加权平均净资产收益率\n",
    "| 2019 | 2018 |\n",
    "| ---- | ---- |\n",
    "| 12.79% | 27.61% |"
   ]
  },
  {
   "cell_type": "markdown",
   "metadata": {},
   "source": [
    "##### 2020-11-07\n",
    "* 科创板，2019年7月上市\n"
   ]
  },
  {
   "cell_type": "code",
   "execution_count": 1,
   "metadata": {},
   "outputs": [],
   "source": [
    "ticker = '688002'"
   ]
  },
  {
   "cell_type": "code",
   "execution_count": 2,
   "metadata": {},
   "outputs": [
    {
     "data": {
      "text/html": [
       "<style>\n",
       "table {float:left}\n",
       "</style>\n"
      ],
      "text/plain": [
       "<IPython.core.display.HTML object>"
      ]
     },
     "metadata": {},
     "output_type": "display_data"
    }
   ],
   "source": [
    "%%html\n",
    "<style>\n",
    "table {float:left}\n",
    "</style>"
   ]
  },
  {
   "cell_type": "code",
   "execution_count": 3,
   "metadata": {},
   "outputs": [],
   "source": [
    "%load_ext autoreload\n",
    "%autoreload 2\n",
    "\n",
    "import os\n",
    "import sys\n",
    "import pandas as pd\n",
    "import matplotlib.pyplot as plt\n",
    "\n",
    "sys.path.append(os.path.join(os.path.expanduser('~'), 'GitHub', 'stock'))\n",
    "import script.data as data\n",
    "import script.utils as utils"
   ]
  },
  {
   "cell_type": "code",
   "execution_count": 4,
   "metadata": {},
   "outputs": [],
   "source": [
    "income = data.get_IS(ticker)\n",
    "incomeq = data.get_ISQ(ticker)\n",
    "mkt = data.get_market(ticker)\n",
    "bs = data.get_BS(ticker)"
   ]
  },
  {
   "cell_type": "code",
   "execution_count": 5,
   "metadata": {},
   "outputs": [
    {
     "data": {
      "text/html": [
       "<div>\n",
       "<style scoped>\n",
       "    .dataframe tbody tr th:only-of-type {\n",
       "        vertical-align: middle;\n",
       "    }\n",
       "\n",
       "    .dataframe tbody tr th {\n",
       "        vertical-align: top;\n",
       "    }\n",
       "\n",
       "    .dataframe thead th {\n",
       "        text-align: right;\n",
       "    }\n",
       "</style>\n",
       "<table border=\"1\" class=\"dataframe\">\n",
       "  <thead>\n",
       "    <tr style=\"text-align: right;\">\n",
       "      <th></th>\n",
       "      <th>基本每股收益</th>\n",
       "      <th>稀释每股收益</th>\n",
       "      <th>营业总收入</th>\n",
       "      <th>营业总成本</th>\n",
       "      <th>归属于母公司所有者的净利润</th>\n",
       "    </tr>\n",
       "    <tr>\n",
       "      <th>截止日期</th>\n",
       "      <th></th>\n",
       "      <th></th>\n",
       "      <th></th>\n",
       "      <th></th>\n",
       "      <th></th>\n",
       "    </tr>\n",
       "  </thead>\n",
       "  <tbody>\n",
       "    <tr>\n",
       "      <th>2019-12-31</th>\n",
       "      <td>0.4928</td>\n",
       "      <td>0.4928</td>\n",
       "      <td>684,656,331 (78.2%)</td>\n",
       "      <td>489,678,932 (90.2%)</td>\n",
       "      <td>202,065,860 (61.4%)</td>\n",
       "    </tr>\n",
       "    <tr>\n",
       "      <th>2018-12-31</th>\n",
       "      <td>0.3725</td>\n",
       "      <td>0.3725</td>\n",
       "      <td>384,104,725 (146.7%)</td>\n",
       "      <td>257,414,768 (130.1%)</td>\n",
       "      <td>125,168,101 (94.5%)</td>\n",
       "    </tr>\n",
       "    <tr>\n",
       "      <th>2017-12-31</th>\n",
       "      <td>0.2326</td>\n",
       "      <td>0.2326</td>\n",
       "      <td>155,722,300 (158.5%)</td>\n",
       "      <td>111,881,300 (82.6%)</td>\n",
       "      <td>64,350,900 (563.9%)</td>\n",
       "    </tr>\n",
       "    <tr>\n",
       "      <th>2016-12-31</th>\n",
       "      <td>0.0379</td>\n",
       "      <td>0.0379</td>\n",
       "      <td>60,250,600 (nan%)</td>\n",
       "      <td>61,286,100 (nan%)</td>\n",
       "      <td>9,693,300 (nan%)</td>\n",
       "    </tr>\n",
       "  </tbody>\n",
       "</table>\n",
       "</div>"
      ],
      "text/plain": [
       "            基本每股收益  稀释每股收益                 营业总收入                 营业总成本  \\\n",
       "截止日期                                                                     \n",
       "2019-12-31  0.4928  0.4928   684,656,331 (78.2%)   489,678,932 (90.2%)   \n",
       "2018-12-31  0.3725  0.3725  384,104,725 (146.7%)  257,414,768 (130.1%)   \n",
       "2017-12-31  0.2326  0.2326  155,722,300 (158.5%)   111,881,300 (82.6%)   \n",
       "2016-12-31  0.0379  0.0379     60,250,600 (nan%)     61,286,100 (nan%)   \n",
       "\n",
       "                  归属于母公司所有者的净利润  \n",
       "截止日期                             \n",
       "2019-12-31  202,065,860 (61.4%)  \n",
       "2018-12-31  125,168,101 (94.5%)  \n",
       "2017-12-31  64,350,900 (563.9%)  \n",
       "2016-12-31     9,693,300 (nan%)  "
      ]
     },
     "execution_count": 5,
     "metadata": {},
     "output_type": "execute_result"
    }
   ],
   "source": [
    "change = utils.column_pct(income[['营业总收入', '营业总成本', '归属于母公司所有者的净利润']], periods=-1)\n",
    "income_change = pd.concat([income[['截止日期', '基本每股收益', '稀释每股收益']], change], axis=1)\n",
    "income_change.set_index('截止日期')"
   ]
  },
  {
   "cell_type": "code",
   "execution_count": 6,
   "metadata": {},
   "outputs": [
    {
     "data": {
      "text/html": [
       "<div>\n",
       "<style scoped>\n",
       "    .dataframe tbody tr th:only-of-type {\n",
       "        vertical-align: middle;\n",
       "    }\n",
       "\n",
       "    .dataframe tbody tr th {\n",
       "        vertical-align: top;\n",
       "    }\n",
       "\n",
       "    .dataframe thead th {\n",
       "        text-align: right;\n",
       "    }\n",
       "</style>\n",
       "<table border=\"1\" class=\"dataframe\">\n",
       "  <thead>\n",
       "    <tr style=\"text-align: right;\">\n",
       "      <th></th>\n",
       "      <th>营业收入</th>\n",
       "      <th>归属于母公司所有者的净利润</th>\n",
       "    </tr>\n",
       "    <tr>\n",
       "      <th>截止日期</th>\n",
       "      <th></th>\n",
       "      <th></th>\n",
       "    </tr>\n",
       "  </thead>\n",
       "  <tbody>\n",
       "    <tr>\n",
       "      <th>2020-06-30</th>\n",
       "      <td>462,441,026 (201.2%)</td>\n",
       "      <td>223,349,456 (438.8%)</td>\n",
       "    </tr>\n",
       "    <tr>\n",
       "      <th>2020-03-31</th>\n",
       "      <td>230,744,132 (129.5%)</td>\n",
       "      <td>85,030,723 (265.9%)</td>\n",
       "    </tr>\n",
       "    <tr>\n",
       "      <th>2019-12-31</th>\n",
       "      <td>282,413,677 (33.5%)</td>\n",
       "      <td>100,902,794 (20.7%)</td>\n",
       "    </tr>\n",
       "    <tr>\n",
       "      <th>2019-09-30</th>\n",
       "      <td>148,198,492 (162.6%)</td>\n",
       "      <td>36,473,118 (242.1%)</td>\n",
       "    </tr>\n",
       "    <tr>\n",
       "      <th>2019-06-30</th>\n",
       "      <td>153,519,041 (92.5%)</td>\n",
       "      <td>41,449,339 (44.9%)</td>\n",
       "    </tr>\n",
       "    <tr>\n",
       "      <th>2019-03-31</th>\n",
       "      <td>100,525,121 (177.1%)</td>\n",
       "      <td>23,240,609 (605.8%)</td>\n",
       "    </tr>\n",
       "    <tr>\n",
       "      <th>2018-12-31</th>\n",
       "      <td>211,621,314 (-44.9%)</td>\n",
       "      <td>83,607,289 (-46.5%)</td>\n",
       "    </tr>\n",
       "    <tr>\n",
       "      <th>2018-09-30</th>\n",
       "      <td>56,440,825 (nan%)</td>\n",
       "      <td>10,662,255 (nan%)</td>\n",
       "    </tr>\n",
       "    <tr>\n",
       "      <th>2018-06-30</th>\n",
       "      <td>79,759,384 (nan%)</td>\n",
       "      <td>28,610,381 (nan%)</td>\n",
       "    </tr>\n",
       "    <tr>\n",
       "      <th>2018-03-31</th>\n",
       "      <td>36,283,203 (nan%)</td>\n",
       "      <td>3,292,797 (nan%)</td>\n",
       "    </tr>\n",
       "    <tr>\n",
       "      <th>2020-09-30</th>\n",
       "      <td>384,394,373 (nan%)</td>\n",
       "      <td>156,394,871 (nan%)</td>\n",
       "    </tr>\n",
       "  </tbody>\n",
       "</table>\n",
       "</div>"
      ],
      "text/plain": [
       "                            营业收入         归属于母公司所有者的净利润\n",
       "截止日期                                                  \n",
       "2020-06-30  462,441,026 (201.2%)  223,349,456 (438.8%)\n",
       "2020-03-31  230,744,132 (129.5%)   85,030,723 (265.9%)\n",
       "2019-12-31   282,413,677 (33.5%)   100,902,794 (20.7%)\n",
       "2019-09-30  148,198,492 (162.6%)   36,473,118 (242.1%)\n",
       "2019-06-30   153,519,041 (92.5%)    41,449,339 (44.9%)\n",
       "2019-03-31  100,525,121 (177.1%)   23,240,609 (605.8%)\n",
       "2018-12-31  211,621,314 (-44.9%)   83,607,289 (-46.5%)\n",
       "2018-09-30     56,440,825 (nan%)     10,662,255 (nan%)\n",
       "2018-06-30     79,759,384 (nan%)     28,610,381 (nan%)\n",
       "2018-03-31     36,283,203 (nan%)      3,292,797 (nan%)\n",
       "2020-09-30    384,394,373 (nan%)    156,394,871 (nan%)"
      ]
     },
     "execution_count": 6,
     "metadata": {},
     "output_type": "execute_result"
    }
   ],
   "source": [
    "change = utils.column_pct(incomeq[['营业收入', '归属于母公司所有者的净利润']], periods=-4)\n",
    "incomeq_change = pd.concat([incomeq[['截止日期']], change], axis=1)\n",
    "incomeq_change[:24].set_index('截止日期')"
   ]
  },
  {
   "cell_type": "code",
   "execution_count": 7,
   "metadata": {},
   "outputs": [
    {
     "data": {
      "image/png": "[encoded data removed]",
      "text/plain": [
       "<Figure size 1080x720 with 2 Axes>"
      ]
     },
     "metadata": {
      "needs_background": "light"
     },
     "output_type": "display_data"
    }
   ],
   "source": [
    "plt.figure(figsize=(15,10))\n",
    "ax = plt.subplot(211)\n",
    "plt.plot(incomeq['截止日期'][::-1], incomeq['营业收入'][::-1], 'b-')\n",
    "ax.set_yscale(\"log\")\n",
    "ax.grid(True, which='both', axis='both')\n",
    "ax = plt.subplot(212)\n",
    "plt.plot(incomeq['截止日期'][::-1], incomeq['归属于母公司所有者的净利润'][::-1], 'g-')\n",
    "ax.set_yscale(\"log\")\n",
    "ax.grid(True, which='both', axis='both')\n",
    "plt.xticks(rotation=90)\n",
    "plt.subplots_adjust(hspace=.0)\n",
    "plt.show()"
   ]
  },
  {
   "cell_type": "code",
   "execution_count": 8,
   "metadata": {},
   "outputs": [
    {
     "data": {
      "text/html": [
       "<div>\n",
       "<style scoped>\n",
       "    .dataframe tbody tr th:only-of-type {\n",
       "        vertical-align: middle;\n",
       "    }\n",
       "\n",
       "    .dataframe tbody tr th {\n",
       "        vertical-align: top;\n",
       "    }\n",
       "\n",
       "    .dataframe thead th {\n",
       "        text-align: right;\n",
       "    }\n",
       "</style>\n",
       "<table border=\"1\" class=\"dataframe\">\n",
       "  <thead>\n",
       "    <tr style=\"text-align: right;\">\n",
       "      <th></th>\n",
       "      <th>毛利率</th>\n",
       "      <th>净利率</th>\n",
       "    </tr>\n",
       "    <tr>\n",
       "      <th>截止日期</th>\n",
       "      <th></th>\n",
       "      <th></th>\n",
       "    </tr>\n",
       "  </thead>\n",
       "  <tbody>\n",
       "    <tr>\n",
       "      <th>2019-12-31</th>\n",
       "      <td>50.4</td>\n",
       "      <td>29.5</td>\n",
       "    </tr>\n",
       "    <tr>\n",
       "      <th>2018-12-31</th>\n",
       "      <td>60.1</td>\n",
       "      <td>32.6</td>\n",
       "    </tr>\n",
       "    <tr>\n",
       "      <th>2017-12-31</th>\n",
       "      <td>66.6</td>\n",
       "      <td>41.3</td>\n",
       "    </tr>\n",
       "    <tr>\n",
       "      <th>2016-12-31</th>\n",
       "      <td>67.3</td>\n",
       "      <td>16.1</td>\n",
       "    </tr>\n",
       "  </tbody>\n",
       "</table>\n",
       "</div>"
      ],
      "text/plain": [
       "             毛利率   净利率\n",
       "截止日期                  \n",
       "2019-12-31  50.4  29.5\n",
       "2018-12-31  60.1  32.6\n",
       "2017-12-31  66.6  41.3\n",
       "2016-12-31  67.3  16.1"
      ]
     },
     "execution_count": 8,
     "metadata": {},
     "output_type": "execute_result"
    }
   ],
   "source": [
    "income['毛利率'] = (1 - income['营业成本'] / income['营业收入']).round(3) * 100\n",
    "income['净利率'] = (income['净利润'] / income['营业总收入']).round(3) * 100\n",
    "income.set_index('截止日期')[['毛利率', '净利率']]"
   ]
  },
  {
   "cell_type": "code",
   "execution_count": 9,
   "metadata": {},
   "outputs": [
    {
     "data": {
      "text/html": [
       "<div>\n",
       "<style scoped>\n",
       "    .dataframe tbody tr th:only-of-type {\n",
       "        vertical-align: middle;\n",
       "    }\n",
       "\n",
       "    .dataframe tbody tr th {\n",
       "        vertical-align: top;\n",
       "    }\n",
       "\n",
       "    .dataframe thead th {\n",
       "        text-align: right;\n",
       "    }\n",
       "</style>\n",
       "<table border=\"1\" class=\"dataframe\">\n",
       "  <thead>\n",
       "    <tr style=\"text-align: right;\">\n",
       "      <th></th>\n",
       "      <th>营业收入</th>\n",
       "      <th>存货</th>\n",
       "      <th>应付账款</th>\n",
       "      <th>应收账款</th>\n",
       "    </tr>\n",
       "    <tr>\n",
       "      <th>截止日期</th>\n",
       "      <th></th>\n",
       "      <th></th>\n",
       "      <th></th>\n",
       "      <th></th>\n",
       "    </tr>\n",
       "  </thead>\n",
       "  <tbody>\n",
       "    <tr>\n",
       "      <th>2019-12-31</th>\n",
       "      <td>684,656,331 (78.2%)</td>\n",
       "      <td>294,398,028 (19.5%)</td>\n",
       "      <td>74,969,426 (-10.3%)</td>\n",
       "      <td>114,805,748 (32.6%)</td>\n",
       "    </tr>\n",
       "    <tr>\n",
       "      <th>2018-12-31</th>\n",
       "      <td>384,104,725 (146.7%)</td>\n",
       "      <td>246,396,682 (75.0%)</td>\n",
       "      <td>83,604,694 (389.0%)</td>\n",
       "      <td>86,565,120 (35.0%)</td>\n",
       "    </tr>\n",
       "    <tr>\n",
       "      <th>2017-12-31</th>\n",
       "      <td>155,722,300 (158.5%)</td>\n",
       "      <td>140,762,100 (128.7%)</td>\n",
       "      <td>17,098,800 (73.4%)</td>\n",
       "      <td>64,117,500 (157.8%)</td>\n",
       "    </tr>\n",
       "    <tr>\n",
       "      <th>2016-12-31</th>\n",
       "      <td>60,250,600 (nan%)</td>\n",
       "      <td>61,556,200 (nan%)</td>\n",
       "      <td>9,862,800 (nan%)</td>\n",
       "      <td>24,868,400 (nan%)</td>\n",
       "    </tr>\n",
       "  </tbody>\n",
       "</table>\n",
       "</div>"
      ],
      "text/plain": [
       "                            营业收入                    存货                 应付账款  \\\n",
       "截止日期                                                                          \n",
       "2019-12-31   684,656,331 (78.2%)   294,398,028 (19.5%)  74,969,426 (-10.3%)   \n",
       "2018-12-31  384,104,725 (146.7%)   246,396,682 (75.0%)  83,604,694 (389.0%)   \n",
       "2017-12-31  155,722,300 (158.5%)  140,762,100 (128.7%)   17,098,800 (73.4%)   \n",
       "2016-12-31     60,250,600 (nan%)     61,556,200 (nan%)     9,862,800 (nan%)   \n",
       "\n",
       "                           应收账款  \n",
       "截止日期                             \n",
       "2019-12-31  114,805,748 (32.6%)  \n",
       "2018-12-31   86,565,120 (35.0%)  \n",
       "2017-12-31  64,117,500 (157.8%)  \n",
       "2016-12-31    24,868,400 (nan%)  "
      ]
     },
     "execution_count": 9,
     "metadata": {},
     "output_type": "execute_result"
    }
   ],
   "source": [
    "change = utils.column_pct(bs[['存货', '应付账款', '应收账款']], periods=-1)\n",
    "bs_change = pd.concat([bs[['截止日期']], change], axis=1)\n",
    "bs_change.set_index('截止日期', inplace=True)\n",
    "change = utils.column_pct(income[['营业收入']], periods=-1)\n",
    "income_change = pd.concat([income[['截止日期']], change], axis=1)\n",
    "income_change.set_index('截止日期', inplace=True)\n",
    "pd.concat([income_change, bs_change], axis=1)"
   ]
  },
  {
   "cell_type": "code",
   "execution_count": 10,
   "metadata": {},
   "outputs": [
    {
     "data": {
      "text/html": [
       "<div>\n",
       "<style scoped>\n",
       "    .dataframe tbody tr th:only-of-type {\n",
       "        vertical-align: middle;\n",
       "    }\n",
       "\n",
       "    .dataframe tbody tr th {\n",
       "        vertical-align: top;\n",
       "    }\n",
       "\n",
       "    .dataframe thead tr th {\n",
       "        text-align: left;\n",
       "    }\n",
       "\n",
       "    .dataframe thead tr:last-of-type th {\n",
       "        text-align: right;\n",
       "    }\n",
       "</style>\n",
       "<table border=\"1\" class=\"dataframe\">\n",
       "  <thead>\n",
       "    <tr>\n",
       "      <th></th>\n",
       "      <th colspan=\"2\" halign=\"left\">收盘价</th>\n",
       "      <th colspan=\"2\" halign=\"left\">滚动市盈率</th>\n",
       "      <th colspan=\"2\" halign=\"left\">前复权</th>\n",
       "      <th>前复权增长</th>\n",
       "    </tr>\n",
       "    <tr>\n",
       "      <th></th>\n",
       "      <th>first</th>\n",
       "      <th>last</th>\n",
       "      <th>min</th>\n",
       "      <th>max</th>\n",
       "      <th>first</th>\n",
       "      <th>last</th>\n",
       "      <th></th>\n",
       "    </tr>\n",
       "    <tr>\n",
       "      <th>交易日期</th>\n",
       "      <th></th>\n",
       "      <th></th>\n",
       "      <th></th>\n",
       "      <th></th>\n",
       "      <th></th>\n",
       "      <th></th>\n",
       "      <th></th>\n",
       "    </tr>\n",
       "  </thead>\n",
       "  <tbody>\n",
       "    <tr>\n",
       "      <th>2019</th>\n",
       "      <td>50.20</td>\n",
       "      <td>38.09</td>\n",
       "      <td>74.5</td>\n",
       "      <td>203.3</td>\n",
       "      <td>50.15</td>\n",
       "      <td>38.05</td>\n",
       "      <td>-24.1</td>\n",
       "    </tr>\n",
       "    <tr>\n",
       "      <th>2020</th>\n",
       "      <td>38.97</td>\n",
       "      <td>81.98</td>\n",
       "      <td>61.4</td>\n",
       "      <td>134.9</td>\n",
       "      <td>38.93</td>\n",
       "      <td>81.98</td>\n",
       "      <td>110.6</td>\n",
       "    </tr>\n",
       "  </tbody>\n",
       "</table>\n",
       "</div>"
      ],
      "text/plain": [
       "        收盘价        滚动市盈率           前复权         前复权增长\n",
       "      first   last   min    max  first   last       \n",
       "交易日期                                                \n",
       "2019  50.20  38.09  74.5  203.3  50.15  38.05  -24.1\n",
       "2020  38.97  81.98  61.4  134.9  38.93  81.98  110.6"
      ]
     },
     "execution_count": 10,
     "metadata": {},
     "output_type": "execute_result"
    }
   ],
   "source": [
    "mkt['前复权'] = mkt['收盘价'] * mkt['累积前复权因子']\n",
    "mkt['前复权'] = mkt['前复权'].round(2)\n",
    "mkt['滚动市盈率'] = mkt['滚动市盈率'].round(1)\n",
    "df = mkt[['收盘价', '滚动市盈率', '前复权']].groupby(mkt['交易日期'].dt.year).agg(['min', 'max', 'first', 'last'])[-10:]\n",
    "df['前复权增长'] = df['前复权'][['first', 'last']].apply(lambda x: round((x[1]-x[0])/x[0] * 100,1), axis=1)\n",
    "df.drop(columns=[('收盘价', 'min'), ('收盘价', 'max'), ('前复权', 'min'), ('前复权', 'max'), ('滚动市盈率', 'first'), ('滚动市盈率', 'last')])"
   ]
  }
 ],
 "metadata": {
  "kernelspec": {
   "display_name": "Python 3",
   "language": "python",
   "name": "python3"
  },
  "language_info": {
   "codemirror_mode": {
    "name": "ipython",
    "version": 3
   },
   "file_extension": ".py",
   "mimetype": "text/x-python",
   "name": "python",
   "nbconvert_exporter": "python",
   "pygments_lexer": "ipython3",
   "version": "3.8.3"
  }
 },
 "nbformat": 4,
 "nbformat_minor": 4
}
