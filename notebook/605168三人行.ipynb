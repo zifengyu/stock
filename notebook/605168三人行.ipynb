{
 "cells": [
  {
   "cell_type": "code",
   "execution_count": 8,
   "metadata": {},
   "outputs": [
    {
     "name": "stdout",
     "output_type": "stream",
     "text": [
      "The autoreload extension is already loaded. To reload it, use:\n",
      "  %reload_ext autoreload\n"
     ]
    }
   ],
   "source": [
    "%load_ext autoreload\n",
    "%autoreload 2\n",
    "\n",
    "import os\n",
    "import sys\n",
    "import pandas as pd\n",
    "import matplotlib.pyplot as plt\n",
    "\n",
    "sys.path.append('..')\n",
    "import script.data as data"
   ]
  },
  {
   "cell_type": "code",
   "execution_count": 9,
   "metadata": {},
   "outputs": [],
   "source": [
    "ticker = '605168'"
   ]
  },
  {
   "cell_type": "code",
   "execution_count": 10,
   "metadata": {},
   "outputs": [],
   "source": [
    "income = data.get_IS(ticker)\n",
    "incomeq = data.get_ISQ(ticker)\n",
    "income.rename(columns={'归属于母公司所有者的净利润': '净利润'}, inplace=True)\n",
    "incomeq.rename(columns={'归属于母公司所有者的净利润': '净利润'}, inplace=True)"
   ]
  },
  {
   "cell_type": "code",
   "execution_count": 11,
   "metadata": {},
   "outputs": [
    {
     "data": {
      "text/html": [
       "<div>\n",
       "<style scoped>\n",
       "    .dataframe tbody tr th:only-of-type {\n",
       "        vertical-align: middle;\n",
       "    }\n",
       "\n",
       "    .dataframe tbody tr th {\n",
       "        vertical-align: top;\n",
       "    }\n",
       "\n",
       "    .dataframe thead th {\n",
       "        text-align: right;\n",
       "    }\n",
       "</style>\n",
       "<table border=\"1\" class=\"dataframe\">\n",
       "  <thead>\n",
       "    <tr style=\"text-align: right;\">\n",
       "      <th></th>\n",
       "      <th>截止日期</th>\n",
       "      <th>净利润</th>\n",
       "      <th>基本每股收益</th>\n",
       "      <th>稀释每股收益</th>\n",
       "      <th>营业总收入</th>\n",
       "      <th>营业总成本</th>\n",
       "      <th>净利润</th>\n",
       "    </tr>\n",
       "  </thead>\n",
       "  <tbody>\n",
       "    <tr>\n",
       "      <th>94763</th>\n",
       "      <td>2019-12-31</td>\n",
       "      <td>1.936231e+08</td>\n",
       "      <td>3.74</td>\n",
       "      <td>3.74</td>\n",
       "      <td>48.4</td>\n",
       "      <td>48.5</td>\n",
       "      <td>56.1</td>\n",
       "    </tr>\n",
       "    <tr>\n",
       "      <th>94764</th>\n",
       "      <td>2018-12-31</td>\n",
       "      <td>1.240305e+08</td>\n",
       "      <td>2.39</td>\n",
       "      <td>2.39</td>\n",
       "      <td>45.0</td>\n",
       "      <td>48.6</td>\n",
       "      <td>26.9</td>\n",
       "    </tr>\n",
       "    <tr>\n",
       "      <th>94766</th>\n",
       "      <td>2017-12-31</td>\n",
       "      <td>9.776268e+07</td>\n",
       "      <td>1.89</td>\n",
       "      <td>1.89</td>\n",
       "      <td>105.6</td>\n",
       "      <td>131.7</td>\n",
       "      <td>34.7</td>\n",
       "    </tr>\n",
       "    <tr>\n",
       "      <th>94770</th>\n",
       "      <td>2016-12-31</td>\n",
       "      <td>7.255329e+07</td>\n",
       "      <td>NaN</td>\n",
       "      <td>NaN</td>\n",
       "      <td>297.9</td>\n",
       "      <td>264.4</td>\n",
       "      <td>476.2</td>\n",
       "    </tr>\n",
       "    <tr>\n",
       "      <th>94773</th>\n",
       "      <td>2014-12-31</td>\n",
       "      <td>1.259060e+07</td>\n",
       "      <td>0.36</td>\n",
       "      <td>0.36</td>\n",
       "      <td>-5.0</td>\n",
       "      <td>-10.5</td>\n",
       "      <td>113.5</td>\n",
       "    </tr>\n",
       "    <tr>\n",
       "      <th>94774</th>\n",
       "      <td>2013-12-31</td>\n",
       "      <td>5.897251e+06</td>\n",
       "      <td>0.56</td>\n",
       "      <td>0.56</td>\n",
       "      <td>41.3</td>\n",
       "      <td>40.4</td>\n",
       "      <td>24.7</td>\n",
       "    </tr>\n",
       "    <tr>\n",
       "      <th>94776</th>\n",
       "      <td>2012-12-31</td>\n",
       "      <td>4.730676e+06</td>\n",
       "      <td>NaN</td>\n",
       "      <td>NaN</td>\n",
       "      <td>NaN</td>\n",
       "      <td>NaN</td>\n",
       "      <td>NaN</td>\n",
       "    </tr>\n",
       "  </tbody>\n",
       "</table>\n",
       "</div>"
      ],
      "text/plain": [
       "             截止日期           净利润  基本每股收益  稀释每股收益  营业总收入  营业总成本    净利润\n",
       "94763  2019-12-31  1.936231e+08    3.74    3.74   48.4   48.5   56.1\n",
       "94764  2018-12-31  1.240305e+08    2.39    2.39   45.0   48.6   26.9\n",
       "94766  2017-12-31  9.776268e+07    1.89    1.89  105.6  131.7   34.7\n",
       "94770  2016-12-31  7.255329e+07     NaN     NaN  297.9  264.4  476.2\n",
       "94773  2014-12-31  1.259060e+07    0.36    0.36   -5.0  -10.5  113.5\n",
       "94774  2013-12-31  5.897251e+06    0.56    0.56   41.3   40.4   24.7\n",
       "94776  2012-12-31  4.730676e+06     NaN     NaN    NaN    NaN    NaN"
      ]
     },
     "execution_count": 11,
     "metadata": {},
     "output_type": "execute_result"
    }
   ],
   "source": [
    "change = income[['营业总收入', '营业总成本', '净利润']].pct_change(periods=-1).round(3) * 100\n",
    "income_change = pd.concat([income[['截止日期', '净利润', '基本每股收益', '稀释每股收益']], change], axis=1)\n",
    "income_change"
   ]
  },
  {
   "cell_type": "code",
   "execution_count": 12,
   "metadata": {},
   "outputs": [
    {
     "data": {
      "text/html": [
       "<div>\n",
       "<style scoped>\n",
       "    .dataframe tbody tr th:only-of-type {\n",
       "        vertical-align: middle;\n",
       "    }\n",
       "\n",
       "    .dataframe tbody tr th {\n",
       "        vertical-align: top;\n",
       "    }\n",
       "\n",
       "    .dataframe thead th {\n",
       "        text-align: right;\n",
       "    }\n",
       "</style>\n",
       "<table border=\"1\" class=\"dataframe\">\n",
       "  <thead>\n",
       "    <tr style=\"text-align: right;\">\n",
       "      <th></th>\n",
       "      <th>截止日期</th>\n",
       "      <th>营业收入</th>\n",
       "      <th>净利润</th>\n",
       "      <th>营业收入</th>\n",
       "      <th>净利润</th>\n",
       "    </tr>\n",
       "  </thead>\n",
       "  <tbody>\n",
       "    <tr>\n",
       "      <th>152578</th>\n",
       "      <td>2020-06-30</td>\n",
       "      <td>7.046395e+08</td>\n",
       "      <td>62299194.67</td>\n",
       "      <td>1824.1</td>\n",
       "      <td>579.5</td>\n",
       "    </tr>\n",
       "    <tr>\n",
       "      <th>152579</th>\n",
       "      <td>2020-03-31</td>\n",
       "      <td>4.448480e+08</td>\n",
       "      <td>40422308.72</td>\n",
       "      <td>2246.6</td>\n",
       "      <td>3608.0</td>\n",
       "    </tr>\n",
       "    <tr>\n",
       "      <th>152580</th>\n",
       "      <td>2019-06-30</td>\n",
       "      <td>3.886193e+08</td>\n",
       "      <td>29821559.88</td>\n",
       "      <td>NaN</td>\n",
       "      <td>NaN</td>\n",
       "    </tr>\n",
       "    <tr>\n",
       "      <th>152581</th>\n",
       "      <td>2019-03-31</td>\n",
       "      <td>3.243340e+08</td>\n",
       "      <td>15280075.80</td>\n",
       "      <td>NaN</td>\n",
       "      <td>NaN</td>\n",
       "    </tr>\n",
       "    <tr>\n",
       "      <th>152582</th>\n",
       "      <td>2014-12-31</td>\n",
       "      <td>3.662268e+07</td>\n",
       "      <td>9168515.34</td>\n",
       "      <td>NaN</td>\n",
       "      <td>NaN</td>\n",
       "    </tr>\n",
       "    <tr>\n",
       "      <th>152583</th>\n",
       "      <td>2014-09-30</td>\n",
       "      <td>1.895752e+07</td>\n",
       "      <td>1090140.41</td>\n",
       "      <td>NaN</td>\n",
       "      <td>NaN</td>\n",
       "    </tr>\n",
       "  </tbody>\n",
       "</table>\n",
       "</div>"
      ],
      "text/plain": [
       "              截止日期          营业收入          净利润    营业收入     净利润\n",
       "152578  2020-06-30  7.046395e+08  62299194.67  1824.1   579.5\n",
       "152579  2020-03-31  4.448480e+08  40422308.72  2246.6  3608.0\n",
       "152580  2019-06-30  3.886193e+08  29821559.88     NaN     NaN\n",
       "152581  2019-03-31  3.243340e+08  15280075.80     NaN     NaN\n",
       "152582  2014-12-31  3.662268e+07   9168515.34     NaN     NaN\n",
       "152583  2014-09-30  1.895752e+07   1090140.41     NaN     NaN"
      ]
     },
     "execution_count": 12,
     "metadata": {},
     "output_type": "execute_result"
    }
   ],
   "source": [
    "change = incomeq[['营业收入', '净利润']].pct_change(periods=-4).round(3) * 100\n",
    "incomeq_change = pd.concat([incomeq[['截止日期', '营业收入', '净利润']], change], axis=1)\n",
    "incomeq_change[:24]"
   ]
  },
  {
   "cell_type": "code",
   "execution_count": 13,
   "metadata": {},
   "outputs": [
    {
     "data": {
      "image/png": "[encoded data removed]",
      "text/plain": [
       "<Figure size 1080x720 with 2 Axes>"
      ]
     },
     "metadata": {
      "needs_background": "light"
     },
     "output_type": "display_data"
    }
   ],
   "source": [
    "plt.figure(figsize=(15,10))\n",
    "ax = plt.subplot(211)\n",
    "plt.plot(incomeq['截止日期'][::-1], incomeq['营业收入'][::-1], 'b-')\n",
    "ax.set_yscale(\"log\")\n",
    "ax.grid(True, which='both', axis='both')\n",
    "ax = plt.subplot(212)\n",
    "plt.plot(incomeq['截止日期'][::-1], incomeq['净利润'][::-1], 'g-')\n",
    "ax.set_yscale(\"log\")\n",
    "ax.grid(True, which='both', axis='both')\n",
    "plt.xticks(rotation=90)\n",
    "plt.subplots_adjust(hspace=.0)\n",
    "plt.show()"
   ]
  },
  {
   "cell_type": "code",
   "execution_count": 14,
   "metadata": {},
   "outputs": [
    {
     "data": {
      "text/html": [
       "<div>\n",
       "<style scoped>\n",
       "    .dataframe tbody tr th:only-of-type {\n",
       "        vertical-align: middle;\n",
       "    }\n",
       "\n",
       "    .dataframe tbody tr th {\n",
       "        vertical-align: top;\n",
       "    }\n",
       "\n",
       "    .dataframe thead tr th {\n",
       "        text-align: left;\n",
       "    }\n",
       "\n",
       "    .dataframe thead tr:last-of-type th {\n",
       "        text-align: right;\n",
       "    }\n",
       "</style>\n",
       "<table border=\"1\" class=\"dataframe\">\n",
       "  <thead>\n",
       "    <tr>\n",
       "      <th></th>\n",
       "      <th colspan=\"2\" halign=\"left\">交易日期</th>\n",
       "      <th colspan=\"2\" halign=\"left\">收盘价</th>\n",
       "      <th colspan=\"2\" halign=\"left\">累积前复权因子</th>\n",
       "      <th colspan=\"2\" halign=\"left\">滚动市盈率</th>\n",
       "    </tr>\n",
       "    <tr>\n",
       "      <th></th>\n",
       "      <th>min</th>\n",
       "      <th>max</th>\n",
       "      <th>min</th>\n",
       "      <th>max</th>\n",
       "      <th>min</th>\n",
       "      <th>max</th>\n",
       "      <th>min</th>\n",
       "      <th>max</th>\n",
       "    </tr>\n",
       "    <tr>\n",
       "      <th>交易日期</th>\n",
       "      <th></th>\n",
       "      <th></th>\n",
       "      <th></th>\n",
       "      <th></th>\n",
       "      <th></th>\n",
       "      <th></th>\n",
       "      <th></th>\n",
       "      <th></th>\n",
       "    </tr>\n",
       "  </thead>\n",
       "  <tbody>\n",
       "    <tr>\n",
       "      <th>2020</th>\n",
       "      <td>2020-05-28</td>\n",
       "      <td>2020-10-19</td>\n",
       "      <td>87.29</td>\n",
       "      <td>293.78</td>\n",
       "      <td>0.994894</td>\n",
       "      <td>1.0</td>\n",
       "      <td>27.5585</td>\n",
       "      <td>92.7497</td>\n",
       "    </tr>\n",
       "  </tbody>\n",
       "</table>\n",
       "</div>"
      ],
      "text/plain": [
       "           交易日期               收盘价           累积前复权因子         滚动市盈率         \n",
       "            min        max    min     max       min  max      min      max\n",
       "交易日期                                                                      \n",
       "2020 2020-05-28 2020-10-19  87.29  293.78  0.994894  1.0  27.5585  92.7497"
      ]
     },
     "execution_count": 14,
     "metadata": {},
     "output_type": "execute_result"
    }
   ],
   "source": [
    "df = data.get_market(ticker)\n",
    "df.groupby(df['交易日期'].dt.year).agg(['min', 'max'])[-10:]"
   ]
  },
  {
   "cell_type": "raw",
   "metadata": {},
   "source": [
    "2020-10-24\n",
    "1. 新股，数据缺少\n",
    "\n"
   ]
  },
  {
   "cell_type": "code",
   "execution_count": null,
   "metadata": {},
   "outputs": [],
   "source": []
  },
  {
   "cell_type": "code",
   "execution_count": null,
   "metadata": {},
   "outputs": [],
   "source": []
  }
 ],
 "metadata": {
  "kernelspec": {
   "display_name": "Python 3",
   "language": "python",
   "name": "python3"
  },
  "language_info": {
   "codemirror_mode": {
    "name": "ipython",
    "version": 3
   },
   "file_extension": ".py",
   "mimetype": "text/x-python",
   "name": "python",
   "nbconvert_exporter": "python",
   "pygments_lexer": "ipython3",
   "version": "3.8.3"
  }
 },
 "nbformat": 4,
 "nbformat_minor": 4
}
