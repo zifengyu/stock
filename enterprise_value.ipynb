{
 "cells": [
  {
   "cell_type": "code",
   "execution_count": 41,
   "id": "bd6ea3a9-fb15-460c-b444-4353d162e121",
   "metadata": {},
   "outputs": [
    {
     "name": "stdout",
     "output_type": "stream",
     "text": [
      "The autoreload extension is already loaded. To reload it, use:\n",
      "  %reload_ext autoreload\n"
     ]
    }
   ],
   "source": [
    "%load_ext autoreload\n",
    "%autoreload 2\n",
    "\n",
    "import os\n",
    "import pandas as pd\n",
    "import script.data as data"
   ]
  },
  {
   "cell_type": "code",
   "execution_count": 45,
   "id": "ed2cace1-80d4-42ae-b464-f63591ffe60c",
   "metadata": {},
   "outputs": [
    {
     "name": "stdout",
     "output_type": "stream",
     "text": [
      "1380415790.06\n"
     ]
    }
   ],
   "source": [
    "ticker = '002402'\n",
    "\n",
    "bs = data.get_BS(ticker=ticker)\n",
    "\n",
    "# 总负债\n",
    "debt = bs.iloc[0][\"负债合计\"] - bs.iloc[0][\"应付账款\"]\n",
    "cash = bs.iloc[0][\"货币资金\"]\n",
    "# 市值\n",
    "\n",
    "# data.get_BS(ticker=ticker)\n",
    "print(debt)"
   ]
  },
  {
   "cell_type": "code",
   "execution_count": 39,
   "id": "25c69503-67e4-48a3-9d58-be7b448fde02",
   "metadata": {},
   "outputs": [],
   "source": [
    "BS_FILE = os.path.join(\"data\", \"bs\", \"bs.csv.gz\")\n",
    "data = pd.read_csv(BS_FILE, dtype={'ticker': str}, compression='gzip')\n",
    "data.drop_duplicates(subset=['ticker', 'endDate'], keep='first', inplace=True)\n",
    "    \n",
    "    "
   ]
  },
  {
   "cell_type": "code",
   "execution_count": 18,
   "id": "f583051d-b0ca-4eaf-a0e8-d18fa802a26f",
   "metadata": {},
   "outputs": [],
   "source": [
    "BS_COL = {\n",
    "    \"ticker\": \"股票代码\",\n",
    "    \"endDate\": \"截止日期\",\n",
    "    \"AR\": \"应收账款\",\n",
    "    \"inventories\": \"存货\",\n",
    "    \"AP\": \"应付账款\",\n",
    "    \"TLiab\": \"负债合计\",\n",
    "}"
   ]
  },
  {
   "cell_type": "code",
   "execution_count": 36,
   "id": "ac9ef6c8-7fa0-4c4f-97e1-ebdebfe5c4dc",
   "metadata": {},
   "outputs": [],
   "source": [
    "data = data[BS_COL.keys()]\n",
    "data = data.rename(columns=BS_COL)"
   ]
  },
  {
   "cell_type": "code",
   "execution_count": 43,
   "id": "367e488d-425f-404d-a9fd-173de2bfa168",
   "metadata": {},
   "outputs": [
    {
     "data": {
      "text/plain": [
       "<module 'script.data' from '/Users/yuzifeng/GitHub/stock/script/data.py'>"
      ]
     },
     "execution_count": 43,
     "metadata": {},
     "output_type": "execute_result"
    }
   ],
   "source": [
    "data"
   ]
  },
  {
   "cell_type": "code",
   "execution_count": null,
   "id": "28c6c20c-02f3-47d1-8aa1-c2c05038d04d",
   "metadata": {},
   "outputs": [],
   "source": []
  }
 ],
 "metadata": {
  "kernelspec": {
   "display_name": "Python 3 (ipykernel)",
   "language": "python",
   "name": "python3"
  },
  "language_info": {
   "codemirror_mode": {
    "name": "ipython",
    "version": 3
   },
   "file_extension": ".py",
   "mimetype": "text/x-python",
   "name": "python",
   "nbconvert_exporter": "python",
   "pygments_lexer": "ipython3",
   "version": "3.12.3"
  }
 },
 "nbformat": 4,
 "nbformat_minor": 5
}
