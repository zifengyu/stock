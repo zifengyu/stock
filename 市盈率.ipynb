{
 "cells": [
  {
   "cell_type": "code",
   "execution_count": 47,
   "id": "79c73999-4a9f-4b37-8038-b775e10f1c96",
   "metadata": {},
   "outputs": [],
   "source": [
    "import datetime\n",
    "import random\n",
    "import time\n",
    "\n",
    "import baostock as bs\n",
    "import pandas as pd\n",
    "\n",
    "from tqdm import tqdm"
   ]
  },
  {
   "cell_type": "code",
   "execution_count": 53,
   "id": "82ba9d53-782b-4aae-a966-55a8ecdf876e",
   "metadata": {},
   "outputs": [
    {
     "name": "stdout",
     "output_type": "stream",
     "text": [
      "login success!\n"
     ]
    },
    {
     "name": "stderr",
     "output_type": "stream",
     "text": [
      "100%|██████████| 4476/4476 [58:17<00:00,  1.28it/s]  \n"
     ]
    },
    {
     "name": "stdout",
     "output_type": "stream",
     "text": [
      "logout success!\n"
     ]
    },
    {
     "data": {
      "text/plain": [
       "<baostock.data.resultset.ResultData at 0x7fa03639bcd0>"
      ]
     },
     "execution_count": 53,
     "metadata": {},
     "output_type": "execute_result"
    }
   ],
   "source": [
    "start_date = '1999-01-01'\n",
    "end_date = '2021-07-02'\n",
    "\n",
    "file_path = 'data/peTTM.csv.zip'\n",
    "\n",
    "def print_error(rs):\n",
    "    if rs.error_code != '0':\n",
    "        print('respond error_code:'+rs.error_code)\n",
    "        print('respond  error_msg:'+rs.error_msg)\n",
    "\n",
    "        \n",
    "bs.login()\n",
    "stock_rs = bs.query_all_stock(end_date)\n",
    "print_error(stock_rs)\n",
    "stock_df = stock_rs.get_data()\n",
    "stock_df = stock_df[stock_df['code_name'].str.contains('指数') == False]\n",
    "\n",
    "data_df = pd.read_csv(file_path)\n",
    "existing_code = data_df['code'].unique()\n",
    "\n",
    "for i, code in enumerate(tqdm(stock_df[\"code\"])):\n",
    "    # skip already processed stock\n",
    "    if code in existing_code:\n",
    "        continue \n",
    "    \n",
    "    # only process stock\n",
    "    rs = bs.query_stock_basic(code=code)\n",
    "    print_error(rs)    \n",
    "    if rs.get_data()['type'].iloc[0] != '1':\n",
    "        continue      \n",
    "        \n",
    "    k_rs = bs.query_history_k_data_plus(code, \"date,code,peTTM\", start_date, end_date)\n",
    "    print_error(k_rs)\n",
    "    \n",
    "    data_df = data_df.append(k_rs.get_data())    \n",
    "    if i % 100 == 0:\n",
    "        data_df.to_csv(file_path, index=False)    \n",
    "    time.sleep(random.random())\n",
    "\n",
    "bs.logout()"
   ]
  },
  {
   "cell_type": "code",
   "execution_count": 53,
   "id": "c2d79ad3-bd0a-4cf0-a942-423e9c6122fd",
   "metadata": {},
   "outputs": [],
   "source": [
    "rs = bs.query_history_k_data_plus(\"sh.600320\", \"date,code,peTTM\", date, date)\n",
    "df = df.append(rs.get_data(), ignore_index=True)"
   ]
  },
  {
   "cell_type": "code",
   "execution_count": 36,
   "id": "ae80c2ed-7184-45df-826b-ba9b7ed20148",
   "metadata": {},
   "outputs": [
    {
     "data": {
      "text/html": [
       "<div>\n",
       "<style scoped>\n",
       "    .dataframe tbody tr th:only-of-type {\n",
       "        vertical-align: middle;\n",
       "    }\n",
       "\n",
       "    .dataframe tbody tr th {\n",
       "        vertical-align: top;\n",
       "    }\n",
       "\n",
       "    .dataframe thead th {\n",
       "        text-align: right;\n",
       "    }\n",
       "</style>\n",
       "<table border=\"1\" class=\"dataframe\">\n",
       "  <thead>\n",
       "    <tr style=\"text-align: right;\">\n",
       "      <th></th>\n",
       "    </tr>\n",
       "  </thead>\n",
       "  <tbody>\n",
       "  </tbody>\n",
       "</table>\n",
       "</div>"
      ],
      "text/plain": [
       "Empty DataFrame\n",
       "Columns: []\n",
       "Index: []"
      ]
     },
     "execution_count": 36,
     "metadata": {},
     "output_type": "execute_result"
    }
   ],
   "source": [
    "stock_df"
   ]
  },
  {
   "cell_type": "code",
   "execution_count": 57,
   "id": "d031c412-a1b4-4122-b530-0e9b1f48b6b0",
   "metadata": {},
   "outputs": [],
   "source": [
    "rs = bs.query_trade_dates(start_date=\"1999-01-01\", end_date=\"2021-07-04\")"
   ]
  },
  {
   "cell_type": "code",
   "execution_count": 58,
   "id": "6fee92aa-4fbe-412a-8a4b-9a34dbb00e2f",
   "metadata": {},
   "outputs": [
    {
     "data": {
      "text/plain": [
       "'0'"
      ]
     },
     "execution_count": 58,
     "metadata": {},
     "output_type": "execute_result"
    }
   ],
   "source": [
    "rs.error_code"
   ]
  },
  {
   "cell_type": "code",
   "execution_count": 80,
   "id": "0ee135b1-b45d-4f0c-bf73-f52f47727c5e",
   "metadata": {},
   "outputs": [],
   "source": [
    "df = bs.query_all_stock(date).get_data()"
   ]
  },
  {
   "cell_type": "code",
   "execution_count": 63,
   "id": "8a3a6a0d-638f-40cf-84bd-156fdf38a4c4",
   "metadata": {},
   "outputs": [
    {
     "data": {
      "text/plain": [
       "'2021-07-04'"
      ]
     },
     "execution_count": 63,
     "metadata": {},
     "output_type": "execute_result"
    }
   ],
   "source": [
    "date.today().isoformat()"
   ]
  },
  {
   "cell_type": "code",
   "execution_count": 61,
   "id": "55549589-addc-4838-9889-bd01b1b38787",
   "metadata": {},
   "outputs": [],
   "source": [
    "from datetime import date"
   ]
  },
  {
   "cell_type": "code",
   "execution_count": 88,
   "id": "b7a5136c-5819-434a-9d3f-0d7a8eb05709",
   "metadata": {},
   "outputs": [
    {
     "data": {
      "text/html": [
       "<div>\n",
       "<style scoped>\n",
       "    .dataframe tbody tr th:only-of-type {\n",
       "        vertical-align: middle;\n",
       "    }\n",
       "\n",
       "    .dataframe tbody tr th {\n",
       "        vertical-align: top;\n",
       "    }\n",
       "\n",
       "    .dataframe thead th {\n",
       "        text-align: right;\n",
       "    }\n",
       "</style>\n",
       "<table border=\"1\" class=\"dataframe\">\n",
       "  <thead>\n",
       "    <tr style=\"text-align: right;\">\n",
       "      <th></th>\n",
       "      <th>code</th>\n",
       "      <th>tradeStatus</th>\n",
       "      <th>code_name</th>\n",
       "    </tr>\n",
       "  </thead>\n",
       "  <tbody>\n",
       "    <tr>\n",
       "      <th>8</th>\n",
       "      <td>sh.600001</td>\n",
       "      <td>1</td>\n",
       "      <td>邯郸钢铁</td>\n",
       "    </tr>\n",
       "    <tr>\n",
       "      <th>9</th>\n",
       "      <td>sh.600002</td>\n",
       "      <td>1</td>\n",
       "      <td>齐鲁石化</td>\n",
       "    </tr>\n",
       "    <tr>\n",
       "      <th>10</th>\n",
       "      <td>sh.600009</td>\n",
       "      <td>1</td>\n",
       "      <td>上海机场</td>\n",
       "    </tr>\n",
       "    <tr>\n",
       "      <th>11</th>\n",
       "      <td>sh.600051</td>\n",
       "      <td>1</td>\n",
       "      <td>宁波联合</td>\n",
       "    </tr>\n",
       "    <tr>\n",
       "      <th>12</th>\n",
       "      <td>sh.600052</td>\n",
       "      <td>1</td>\n",
       "      <td>浙江广厦</td>\n",
       "    </tr>\n",
       "    <tr>\n",
       "      <th>...</th>\n",
       "      <td>...</td>\n",
       "      <td>...</td>\n",
       "      <td>...</td>\n",
       "    </tr>\n",
       "    <tr>\n",
       "      <th>832</th>\n",
       "      <td>sz.000895</td>\n",
       "      <td>1</td>\n",
       "      <td>双汇发展</td>\n",
       "    </tr>\n",
       "    <tr>\n",
       "      <th>833</th>\n",
       "      <td>sz.000898</td>\n",
       "      <td>1</td>\n",
       "      <td>鞍钢股份</td>\n",
       "    </tr>\n",
       "    <tr>\n",
       "      <th>834</th>\n",
       "      <td>sz.000899</td>\n",
       "      <td>1</td>\n",
       "      <td>赣能股份</td>\n",
       "    </tr>\n",
       "    <tr>\n",
       "      <th>835</th>\n",
       "      <td>sz.001696</td>\n",
       "      <td>1</td>\n",
       "      <td>宗申动力</td>\n",
       "    </tr>\n",
       "    <tr>\n",
       "      <th>836</th>\n",
       "      <td>sz.001896</td>\n",
       "      <td>1</td>\n",
       "      <td>豫能控股</td>\n",
       "    </tr>\n",
       "  </tbody>\n",
       "</table>\n",
       "<p>829 rows × 3 columns</p>\n",
       "</div>"
      ],
      "text/plain": [
       "          code tradeStatus code_name\n",
       "8    sh.600001           1      邯郸钢铁\n",
       "9    sh.600002           1      齐鲁石化\n",
       "10   sh.600009           1      上海机场\n",
       "11   sh.600051           1      宁波联合\n",
       "12   sh.600052           1      浙江广厦\n",
       "..         ...         ...       ...\n",
       "832  sz.000895           1      双汇发展\n",
       "833  sz.000898           1      鞍钢股份\n",
       "834  sz.000899           1      赣能股份\n",
       "835  sz.001696           1      宗申动力\n",
       "836  sz.001896           1      豫能控股\n",
       "\n",
       "[829 rows x 3 columns]"
      ]
     },
     "execution_count": 88,
     "metadata": {},
     "output_type": "execute_result"
    }
   ],
   "source": [
    "df[df['code_name'].str.contains('指数') == False]"
   ]
  },
  {
   "cell_type": "code",
   "execution_count": 43,
   "id": "b47dcba0-ef58-44a1-bfaf-c83e4cb14518",
   "metadata": {},
   "outputs": [],
   "source": [
    "rs = bs.query_stock_basic(code=code)"
   ]
  },
  {
   "cell_type": "code",
   "execution_count": 92,
   "id": "e1ee3f19-0e3e-4b66-abdc-01d9b6b0c847",
   "metadata": {},
   "outputs": [
    {
     "name": "stdout",
     "output_type": "stream",
     "text": [
      "login success!\n"
     ]
    }
   ],
   "source": [
    "bs.login()\n",
    "\n",
    "rs = bs.query_trade_dates(start_date=start_date, end_date=end_date)\n",
    "print_error(rs)\n",
    "df = rs.get_data()\n",
    "trading_day = df[df['is_trading_day'] == '1']['calendar_date']"
   ]
  },
  {
   "cell_type": "code",
   "execution_count": 95,
   "id": "a458de54-88ab-4381-b1e2-96e05fb4699b",
   "metadata": {},
   "outputs": [
    {
     "data": {
      "text/plain": [
       "3       1999-01-04\n",
       "18      1999-01-19\n",
       "33      1999-02-03\n",
       "67      1999-03-09\n",
       "82      1999-03-24\n",
       "           ...    \n",
       "8148    2021-04-23\n",
       "8168    2021-05-13\n",
       "8183    2021-05-28\n",
       "8201    2021-06-15\n",
       "8216    2021-06-30\n",
       "Name: calendar_date, Length: 496, dtype: object"
      ]
     },
     "execution_count": 95,
     "metadata": {},
     "output_type": "execute_result"
    }
   ],
   "source": [
    "trading_day[0::11]"
   ]
  },
  {
   "cell_type": "code",
   "execution_count": 44,
   "id": "18c01fee-4912-41c2-bf99-04206108f22a",
   "metadata": {},
   "outputs": [
    {
     "data": {
      "text/plain": [
       "'1'"
      ]
     },
     "execution_count": 44,
     "metadata": {},
     "output_type": "execute_result"
    }
   ],
   "source": [
    "rs.get_data()['type'].iloc[0] != '1'"
   ]
  },
  {
   "cell_type": "code",
   "execution_count": 6,
   "id": "7e6ecdb2-add7-4079-8994-567b0a9986d8",
   "metadata": {
    "tags": []
   },
   "outputs": [
    {
     "data": {
      "text/html": [
       "<div>\n",
       "<style scoped>\n",
       "    .dataframe tbody tr th:only-of-type {\n",
       "        vertical-align: middle;\n",
       "    }\n",
       "\n",
       "    .dataframe tbody tr th {\n",
       "        vertical-align: top;\n",
       "    }\n",
       "\n",
       "    .dataframe thead th {\n",
       "        text-align: right;\n",
       "    }\n",
       "</style>\n",
       "<table border=\"1\" class=\"dataframe\">\n",
       "  <thead>\n",
       "    <tr style=\"text-align: right;\">\n",
       "      <th></th>\n",
       "      <th>date</th>\n",
       "      <th>code</th>\n",
       "      <th>peTTM</th>\n",
       "    </tr>\n",
       "  </thead>\n",
       "  <tbody>\n",
       "    <tr>\n",
       "      <th>0</th>\n",
       "      <td>1999-01-04</td>\n",
       "      <td>sh.600001</td>\n",
       "      <td>12.507194</td>\n",
       "    </tr>\n",
       "    <tr>\n",
       "      <th>1</th>\n",
       "      <td>1999-01-04</td>\n",
       "      <td>sh.600002</td>\n",
       "      <td>15.482130</td>\n",
       "    </tr>\n",
       "    <tr>\n",
       "      <th>2</th>\n",
       "      <td>1999-01-04</td>\n",
       "      <td>sh.600009</td>\n",
       "      <td>37.231581</td>\n",
       "    </tr>\n",
       "    <tr>\n",
       "      <th>3</th>\n",
       "      <td>1999-01-04</td>\n",
       "      <td>sh.600051</td>\n",
       "      <td>31.467721</td>\n",
       "    </tr>\n",
       "    <tr>\n",
       "      <th>4</th>\n",
       "      <td>1999-01-04</td>\n",
       "      <td>sh.600052</td>\n",
       "      <td>27.401695</td>\n",
       "    </tr>\n",
       "    <tr>\n",
       "      <th>...</th>\n",
       "      <td>...</td>\n",
       "      <td>...</td>\n",
       "      <td>...</td>\n",
       "    </tr>\n",
       "    <tr>\n",
       "      <th>253865</th>\n",
       "      <td>2008-06-04</td>\n",
       "      <td>sz.399007</td>\n",
       "      <td>NaN</td>\n",
       "    </tr>\n",
       "    <tr>\n",
       "      <th>253866</th>\n",
       "      <td>2008-06-04</td>\n",
       "      <td>sz.399319</td>\n",
       "      <td>NaN</td>\n",
       "    </tr>\n",
       "    <tr>\n",
       "      <th>253867</th>\n",
       "      <td>2008-06-04</td>\n",
       "      <td>sz.399361</td>\n",
       "      <td>NaN</td>\n",
       "    </tr>\n",
       "    <tr>\n",
       "      <th>253868</th>\n",
       "      <td>2008-06-04</td>\n",
       "      <td>sz.399364</td>\n",
       "      <td>NaN</td>\n",
       "    </tr>\n",
       "    <tr>\n",
       "      <th>253869</th>\n",
       "      <td>2008-06-04</td>\n",
       "      <td>sz.399366</td>\n",
       "      <td>NaN</td>\n",
       "    </tr>\n",
       "  </tbody>\n",
       "</table>\n",
       "<p>253870 rows × 3 columns</p>\n",
       "</div>"
      ],
      "text/plain": [
       "              date       code      peTTM\n",
       "0       1999-01-04  sh.600001  12.507194\n",
       "1       1999-01-04  sh.600002  15.482130\n",
       "2       1999-01-04  sh.600009  37.231581\n",
       "3       1999-01-04  sh.600051  31.467721\n",
       "4       1999-01-04  sh.600052  27.401695\n",
       "...            ...        ...        ...\n",
       "253865  2008-06-04  sz.399007        NaN\n",
       "253866  2008-06-04  sz.399319        NaN\n",
       "253867  2008-06-04  sz.399361        NaN\n",
       "253868  2008-06-04  sz.399364        NaN\n",
       "253869  2008-06-04  sz.399366        NaN\n",
       "\n",
       "[253870 rows x 3 columns]"
      ]
     },
     "execution_count": 6,
     "metadata": {},
     "output_type": "execute_result"
    }
   ],
   "source": []
  },
  {
   "cell_type": "code",
   "execution_count": 30,
   "id": "b28e8d08-e579-45fd-bf17-782c0ec54a3d",
   "metadata": {},
   "outputs": [
    {
     "name": "stdout",
     "output_type": "stream",
     "text": [
      "login success!\n",
      "         date       code          close     peTTM\n",
      "0  2020-06-01  sh.600036  33.7730322400  9.202857\n"
     ]
    },
    {
     "data": {
      "text/plain": [
       "<function baostock.login.loginout.logout(user_id='anonymous')>"
      ]
     },
     "execution_count": 30,
     "metadata": {},
     "output_type": "execute_result"
    }
   ],
   "source": [
    "code = 'sh.600036'\n",
    "date = '2020-06-01'\n",
    "bs.login()\n",
    "rs = bs.query_history_k_data_plus(code, \"date,code,close,peTTM\", date, date, adjustflag=\"2\")\n",
    "print(rs.get_data())\n",
    "bs.logout"
   ]
  },
  {
   "cell_type": "code",
   "execution_count": 33,
   "id": "a18c7a35-8437-45de-ac19-d484d50113a2",
   "metadata": {},
   "outputs": [],
   "source": [
    "k_rs = bs.query_history_k_data_plus(code, \"date,code,peTTM\", '1999-01-01', '2021-07-04')"
   ]
  },
  {
   "cell_type": "code",
   "execution_count": 32,
   "id": "d0fc85e2-1a94-4ea2-b9ae-78f297f4babe",
   "metadata": {},
   "outputs": [
    {
     "name": "stdout",
     "output_type": "stream",
     "text": [
      "login success!\n"
     ]
    },
    {
     "data": {
      "text/plain": [
       "<baostock.data.resultset.ResultData at 0x7fa64e47fee0>"
      ]
     },
     "execution_count": 32,
     "metadata": {},
     "output_type": "execute_result"
    }
   ],
   "source": [
    "bs.login()"
   ]
  },
  {
   "cell_type": "code",
   "execution_count": 34,
   "id": "78a6c326-0799-42fe-96a6-29fbfb68fbb0",
   "metadata": {},
   "outputs": [
    {
     "data": {
      "text/html": [
       "<div>\n",
       "<style scoped>\n",
       "    .dataframe tbody tr th:only-of-type {\n",
       "        vertical-align: middle;\n",
       "    }\n",
       "\n",
       "    .dataframe tbody tr th {\n",
       "        vertical-align: top;\n",
       "    }\n",
       "\n",
       "    .dataframe thead th {\n",
       "        text-align: right;\n",
       "    }\n",
       "</style>\n",
       "<table border=\"1\" class=\"dataframe\">\n",
       "  <thead>\n",
       "    <tr style=\"text-align: right;\">\n",
       "      <th></th>\n",
       "      <th>date</th>\n",
       "      <th>code</th>\n",
       "      <th>peTTM</th>\n",
       "    </tr>\n",
       "  </thead>\n",
       "  <tbody>\n",
       "    <tr>\n",
       "      <th>0</th>\n",
       "      <td>2002-04-09</td>\n",
       "      <td>sh.600036</td>\n",
       "      <td>42.508441</td>\n",
       "    </tr>\n",
       "    <tr>\n",
       "      <th>1</th>\n",
       "      <td>2002-04-10</td>\n",
       "      <td>sh.600036</td>\n",
       "      <td>42.269182</td>\n",
       "    </tr>\n",
       "    <tr>\n",
       "      <th>2</th>\n",
       "      <td>2002-04-11</td>\n",
       "      <td>sh.600036</td>\n",
       "      <td>41.950169</td>\n",
       "    </tr>\n",
       "    <tr>\n",
       "      <th>3</th>\n",
       "      <td>2002-04-12</td>\n",
       "      <td>sh.600036</td>\n",
       "      <td>42.149552</td>\n",
       "    </tr>\n",
       "    <tr>\n",
       "      <th>4</th>\n",
       "      <td>2002-04-15</td>\n",
       "      <td>sh.600036</td>\n",
       "      <td>41.431773</td>\n",
       "    </tr>\n",
       "    <tr>\n",
       "      <th>...</th>\n",
       "      <td>...</td>\n",
       "      <td>...</td>\n",
       "      <td>...</td>\n",
       "    </tr>\n",
       "    <tr>\n",
       "      <th>4668</th>\n",
       "      <td>2021-06-28</td>\n",
       "      <td>sh.600036</td>\n",
       "      <td>13.583088</td>\n",
       "    </tr>\n",
       "    <tr>\n",
       "      <th>4669</th>\n",
       "      <td>2021-06-29</td>\n",
       "      <td>sh.600036</td>\n",
       "      <td>13.359600</td>\n",
       "    </tr>\n",
       "    <tr>\n",
       "      <th>4670</th>\n",
       "      <td>2021-06-30</td>\n",
       "      <td>sh.600036</td>\n",
       "      <td>13.456445</td>\n",
       "    </tr>\n",
       "    <tr>\n",
       "      <th>4671</th>\n",
       "      <td>2021-07-01</td>\n",
       "      <td>sh.600036</td>\n",
       "      <td>13.905903</td>\n",
       "    </tr>\n",
       "    <tr>\n",
       "      <th>4672</th>\n",
       "      <td>2021-07-02</td>\n",
       "      <td>sh.600036</td>\n",
       "      <td>13.173360</td>\n",
       "    </tr>\n",
       "  </tbody>\n",
       "</table>\n",
       "<p>4673 rows × 3 columns</p>\n",
       "</div>"
      ],
      "text/plain": [
       "            date       code      peTTM\n",
       "0     2002-04-09  sh.600036  42.508441\n",
       "1     2002-04-10  sh.600036  42.269182\n",
       "2     2002-04-11  sh.600036  41.950169\n",
       "3     2002-04-12  sh.600036  42.149552\n",
       "4     2002-04-15  sh.600036  41.431773\n",
       "...          ...        ...        ...\n",
       "4668  2021-06-28  sh.600036  13.583088\n",
       "4669  2021-06-29  sh.600036  13.359600\n",
       "4670  2021-06-30  sh.600036  13.456445\n",
       "4671  2021-07-01  sh.600036  13.905903\n",
       "4672  2021-07-02  sh.600036  13.173360\n",
       "\n",
       "[4673 rows x 3 columns]"
      ]
     },
     "execution_count": 34,
     "metadata": {},
     "output_type": "execute_result"
    }
   ],
   "source": [
    "k_rs.get_data()"
   ]
  },
  {
   "cell_type": "code",
   "execution_count": null,
   "id": "7a213267-e5b5-44bb-a94f-c2ff026442d7",
   "metadata": {},
   "outputs": [],
   "source": []
  }
 ],
 "metadata": {
  "kernelspec": {
   "display_name": "Python 3",
   "language": "python",
   "name": "python3"
  },
  "language_info": {
   "codemirror_mode": {
    "name": "ipython",
    "version": 3
   },
   "file_extension": ".py",
   "mimetype": "text/x-python",
   "name": "python",
   "nbconvert_exporter": "python",
   "pygments_lexer": "ipython3",
   "version": "3.9.2"
  }
 },
 "nbformat": 4,
 "nbformat_minor": 5
}
