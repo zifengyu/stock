{
 "cells": [
  {
   "cell_type": "code",
   "execution_count": 66,
   "id": "79c73999-4a9f-4b37-8038-b775e10f1c96",
   "metadata": {},
   "outputs": [],
   "source": [
    "import contextlib\n",
    "import datetime\n",
    "import os\n",
    "import random\n",
    "import time\n",
    "\n",
    "import baostock as bs\n",
    "import pandas as pd\n",
    "from tqdm import tqdm"
   ]
  },
  {
   "cell_type": "code",
   "execution_count": 64,
   "id": "b7a5136c-5819-434a-9d3f-0d7a8eb05709",
   "metadata": {},
   "outputs": [],
   "source": [
    "def supress_stdout(func):\n",
    "    def wrapper(*a, **ka):\n",
    "        with open(os.devnull, 'w') as devnull:\n",
    "            with contextlib.redirect_stdout(devnull):\n",
    "                return func(*a, **ka)\n",
    "    return wrapper\n",
    "\n",
    "\n",
    "@supress_stdout\n",
    "def get_pe(code):\n",
    "    \"\"\"\n",
    "    获取过去20天平均peTTM\n",
    "    \"\"\"\n",
    "    start = (datetime.date.today() - datetime.timedelta(days=30)).isoformat()\n",
    "    bs.login()\n",
    "    rs = bs.query_history_k_data_plus(code, \"date,code,close,peTTM\", start, \"\", adjustflag=\"3\")\n",
    "    stock_pe = rs.get_data()\n",
    "    bs.logout\n",
    "    return round(stock_pe['peTTM'][-20:].astype('float64').mean(), 2)\n",
    "\n",
    "\n",
    "def get_stock_list(hs300=True, zz500=True):\n",
    "    \"\"\"\n",
    "    获取沪深300，中证500指数股票\n",
    "    \"\"\"\n",
    "    stocks = []\n",
    "    \n",
    "    bs.login()\n",
    "    \n",
    "    if hs300:\n",
    "        rs = bs.query_hs300_stocks()\n",
    "        while (rs.error_code == '0') & rs.next():\n",
    "            stocks.append(rs.get_row_data())\n",
    "    \n",
    "    if zz500:\n",
    "        rs = bs.query_zz500_stocks()\n",
    "        while (rs.error_code == '0') & rs.next():\n",
    "            stocks.append(rs.get_row_data())            \n",
    "        \n",
    "    bs.logout()\n",
    "    \n",
    "    result = pd.DataFrame(stocks, columns=rs.fields)\n",
    "    return result[['code', 'code_name']]\n",
    "\n",
    "# # 输出个股历史的市盈率\n",
    "# code = 'sz.002402'\n",
    "\n",
    "# last_month = datetime.date.today().isoformat()[:7]\n",
    "# key_date = ['1999-05', '2001-06', '2002-09', '2005-07', '2007-08', '2008-10', '2010-04', '2012-12', '2015-06', '2018-10',\n",
    "#             '2019-01', '2020-01', '2021-01', last_month]\n",
    "\n",
    "# start = (datetime.date.today() - datetime.timedelta(days=30)).isoformat()\n",
    "\n",
    "# bs.login()\n",
    "# rs = bs.query_history_k_data_plus(code, \"date,code,close,peTTM\", start, \"\", adjustflag=\"3\")\n",
    "# stock_pe = rs.get_data()\n",
    "# bs.logout\n",
    "\n",
    "# stock_pe_month = stock_pe\n",
    "# stock_pe_month['month'] = stock_pe_month['date'].str.slice(0, 7)\n",
    "# stock_pe_month['peTTM'] = pd.to_numeric(stock_pe_month['peTTM'])\n",
    "# stock_month_stats = stock_pe_month.groupby(['month'])['peTTM'].agg(['mean'])\n",
    "\n",
    "# df = pd.concat([stock_month_stats, pe_month_50, pe_month_75], axis=1).reindex(key_date).sort_index().dropna().rename(columns={\"mean\": code})\n",
    "# display(df)\n",
    "\n",
    "# fig = px.line(df, title='peTTM')\n",
    "# fig.show()\n"
   ]
  },
  {
   "cell_type": "code",
   "execution_count": 98,
   "id": "e1ee3f19-0e3e-4b66-abdc-01d9b6b0c847",
   "metadata": {
    "tags": []
   },
   "outputs": [
    {
     "name": "stdout",
     "output_type": "stream",
     "text": [
      "login success!\n",
      "logout success!\n",
      "股票数 764\n"
     ]
    },
    {
     "name": "stderr",
     "output_type": "stream",
     "text": [
      "100%|█████████████████████████████████████████████████████████████████████████| 764/764 [02:15<00:00,  5.63it/s]"
     ]
    },
    {
     "name": "stdout",
     "output_type": "stream",
     "text": [
      "低市盈率股票数 556\n"
     ]
    },
    {
     "name": "stderr",
     "output_type": "stream",
     "text": [
      "\n"
     ]
    }
   ],
   "source": [
    "stock_list = get_stock_list()\n",
    "assert(len(stock_list) == 800)\n",
    "\n",
    "# 去除银行\n",
    "stock_list = stock_list[stock_list['code_name'].str.contains('银行') == False]\n",
    "stock_list = stock_list[stock_list['code_name'].str.contains('商行') == False]\n",
    "print(\"股票数\", len(stock_list))\n",
    "\n",
    "peTTM_list = []\n",
    "for i in tqdm(range(len(stock_list))):\n",
    "    code = stock_list.iloc[i]['code']\n",
    "    peTTM = get_pe(code)\n",
    "    peTTM_list.append(peTTM)\n",
    "    # time.sleep(random.random() * 2)\n",
    "\n",
    "stock_list.insert(2, \"peTTM\", peTTM_list, True)\n",
    "\n",
    "stock_list = stock_list[stock_list['peTTM'] > 0]\n",
    "stock_list = stock_list[stock_list['peTTM'] < 50]\n",
    "stock_list = stock_list.sort_values(by=['peTTM'], ignore_index=True)\n",
    "print(\"低市盈率股票数\", len(stock_list))\n",
    "\n",
    "stock_list.to_csv('stock_list.csv', index=False)"
   ]
  },
  {
   "cell_type": "code",
   "execution_count": 93,
   "id": "a458de54-88ab-4381-b1e2-96e05fb4699b",
   "metadata": {},
   "outputs": [],
   "source": [
    "stock_list = stock_list[stock_list['peTTM'] > 0]"
   ]
  },
  {
   "cell_type": "code",
   "execution_count": 96,
   "id": "eae2ed12-00c6-47d6-a727-ba8adb51e75d",
   "metadata": {},
   "outputs": [],
   "source": [
    "stock_list = stock_list.sort_values(by=['peTTM'], ignore_index=True)"
   ]
  },
  {
   "cell_type": "code",
   "execution_count": 97,
   "id": "6c2b122d-2a54-4fdd-910e-cc00e20985a6",
   "metadata": {},
   "outputs": [],
   "source": [
    "stock_list.to_csv('stock_list.csv', index=False)"
   ]
  },
  {
   "cell_type": "code",
   "execution_count": null,
   "id": "3f5ec12e-7706-4c37-af53-552a4934d899",
   "metadata": {},
   "outputs": [],
   "source": []
  }
 ],
 "metadata": {
  "kernelspec": {
   "display_name": "Python 3 (ipykernel)",
   "language": "python",
   "name": "python3"
  },
  "language_info": {
   "codemirror_mode": {
    "name": "ipython",
    "version": 3
   },
   "file_extension": ".py",
   "mimetype": "text/x-python",
   "name": "python",
   "nbconvert_exporter": "python",
   "pygments_lexer": "ipython3",
   "version": "3.10.5"
  }
 },
 "nbformat": 4,
 "nbformat_minor": 5
}
