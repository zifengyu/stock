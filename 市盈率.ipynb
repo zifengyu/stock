{
 "cells": [
  {
   "cell_type": "code",
   "execution_count": 1,
   "id": "79c73999-4a9f-4b37-8038-b775e10f1c96",
   "metadata": {},
   "outputs": [],
   "source": [
    "import datetime\n",
    "import random\n",
    "import time\n",
    "\n",
    "import baostock as bs\n",
    "import pandas as pd\n",
    "\n",
    "from tqdm import tqdm"
   ]
  },
  {
   "cell_type": "code",
   "execution_count": null,
   "id": "82ba9d53-782b-4aae-a966-55a8ecdf876e",
   "metadata": {},
   "outputs": [
    {
     "name": "stderr",
     "output_type": "stream",
     "text": [
      "  0%|          | 0/496 [00:00<?, ?it/s]"
     ]
    },
    {
     "name": "stdout",
     "output_type": "stream",
     "text": [
      "login success!\n"
     ]
    },
    {
     "name": "stderr",
     "output_type": "stream",
     "text": [
      " 41%|████▏     | 205/496 [4:44:13<9:41:13, 119.84s/it] "
     ]
    }
   ],
   "source": [
    "start_date = '1999-01-01'\n",
    "end_date = datetime.date.today().isoformat()\n",
    "\n",
    "def print_error(rs):\n",
    "    if rs.error_code != '0':\n",
    "        print('respond error_code:'+rs.error_code)\n",
    "        print('respond  error_msg:'+rs.error_msg)\n",
    "\n",
    "        \n",
    "bs.login()\n",
    "\n",
    "rs = bs.query_trade_dates(start_date=start_date, end_date=end_date)\n",
    "print_error(rs)\n",
    "df = rs.get_data()\n",
    "trading_day = df[df['is_trading_day'] == '1']['calendar_date']\n",
    "trading_day = trading_day[0::11]\n",
    "\n",
    "data_df = pd.DataFrame()\n",
    "for date in tqdm(trading_day):\n",
    "    stock_rs = bs.query_all_stock(date)\n",
    "    print_error(stock_rs)        \n",
    "    stock_df = stock_rs.get_data()\n",
    "    stock_df = stock_df[stock_df['code_name'].str.contains('指数') == False]\n",
    "    \n",
    "    for code in stock_df[\"code\"]:        \n",
    "        k_rs = bs.query_history_k_data_plus(code, \"date,code,peTTM\", date, date)\n",
    "        print_error(k_rs)\n",
    "        data_df = data_df.append(k_rs.get_data())\n",
    "    \n",
    "    data_df.to_csv(\"peTTM.csv\", index=False)\n",
    "    time.sleep(random.random())\n",
    "\n",
    "bs.logout()"
   ]
  },
  {
   "cell_type": "code",
   "execution_count": 53,
   "id": "c2d79ad3-bd0a-4cf0-a942-423e9c6122fd",
   "metadata": {},
   "outputs": [],
   "source": [
    "rs = bs.query_history_k_data_plus(\"sh.600320\", \"date,code,peTTM\", date, date)\n",
    "df = df.append(rs.get_data(), ignore_index=True)"
   ]
  },
  {
   "cell_type": "code",
   "execution_count": 100,
   "id": "ae80c2ed-7184-45df-826b-ba9b7ed20148",
   "metadata": {},
   "outputs": [
    {
     "data": {
      "text/plain": [
       "'sz.000405'"
      ]
     },
     "execution_count": 100,
     "metadata": {},
     "output_type": "execute_result"
    }
   ],
   "source": [
    "code"
   ]
  },
  {
   "cell_type": "code",
   "execution_count": 57,
   "id": "d031c412-a1b4-4122-b530-0e9b1f48b6b0",
   "metadata": {},
   "outputs": [],
   "source": [
    "rs = bs.query_trade_dates(start_date=\"1999-01-01\", end_date=\"2021-07-04\")"
   ]
  },
  {
   "cell_type": "code",
   "execution_count": 58,
   "id": "6fee92aa-4fbe-412a-8a4b-9a34dbb00e2f",
   "metadata": {},
   "outputs": [
    {
     "data": {
      "text/plain": [
       "'0'"
      ]
     },
     "execution_count": 58,
     "metadata": {},
     "output_type": "execute_result"
    }
   ],
   "source": [
    "rs.error_code"
   ]
  },
  {
   "cell_type": "code",
   "execution_count": 80,
   "id": "0ee135b1-b45d-4f0c-bf73-f52f47727c5e",
   "metadata": {},
   "outputs": [],
   "source": [
    "df = bs.query_all_stock(date).get_data()"
   ]
  },
  {
   "cell_type": "code",
   "execution_count": 63,
   "id": "8a3a6a0d-638f-40cf-84bd-156fdf38a4c4",
   "metadata": {},
   "outputs": [
    {
     "data": {
      "text/plain": [
       "'2021-07-04'"
      ]
     },
     "execution_count": 63,
     "metadata": {},
     "output_type": "execute_result"
    }
   ],
   "source": [
    "date.today().isoformat()"
   ]
  },
  {
   "cell_type": "code",
   "execution_count": 61,
   "id": "55549589-addc-4838-9889-bd01b1b38787",
   "metadata": {},
   "outputs": [],
   "source": [
    "from datetime import date"
   ]
  },
  {
   "cell_type": "code",
   "execution_count": 88,
   "id": "b7a5136c-5819-434a-9d3f-0d7a8eb05709",
   "metadata": {},
   "outputs": [
    {
     "data": {
      "text/html": [
       "<div>\n",
       "<style scoped>\n",
       "    .dataframe tbody tr th:only-of-type {\n",
       "        vertical-align: middle;\n",
       "    }\n",
       "\n",
       "    .dataframe tbody tr th {\n",
       "        vertical-align: top;\n",
       "    }\n",
       "\n",
       "    .dataframe thead th {\n",
       "        text-align: right;\n",
       "    }\n",
       "</style>\n",
       "<table border=\"1\" class=\"dataframe\">\n",
       "  <thead>\n",
       "    <tr style=\"text-align: right;\">\n",
       "      <th></th>\n",
       "      <th>code</th>\n",
       "      <th>tradeStatus</th>\n",
       "      <th>code_name</th>\n",
       "    </tr>\n",
       "  </thead>\n",
       "  <tbody>\n",
       "    <tr>\n",
       "      <th>8</th>\n",
       "      <td>sh.600001</td>\n",
       "      <td>1</td>\n",
       "      <td>邯郸钢铁</td>\n",
       "    </tr>\n",
       "    <tr>\n",
       "      <th>9</th>\n",
       "      <td>sh.600002</td>\n",
       "      <td>1</td>\n",
       "      <td>齐鲁石化</td>\n",
       "    </tr>\n",
       "    <tr>\n",
       "      <th>10</th>\n",
       "      <td>sh.600009</td>\n",
       "      <td>1</td>\n",
       "      <td>上海机场</td>\n",
       "    </tr>\n",
       "    <tr>\n",
       "      <th>11</th>\n",
       "      <td>sh.600051</td>\n",
       "      <td>1</td>\n",
       "      <td>宁波联合</td>\n",
       "    </tr>\n",
       "    <tr>\n",
       "      <th>12</th>\n",
       "      <td>sh.600052</td>\n",
       "      <td>1</td>\n",
       "      <td>浙江广厦</td>\n",
       "    </tr>\n",
       "    <tr>\n",
       "      <th>...</th>\n",
       "      <td>...</td>\n",
       "      <td>...</td>\n",
       "      <td>...</td>\n",
       "    </tr>\n",
       "    <tr>\n",
       "      <th>832</th>\n",
       "      <td>sz.000895</td>\n",
       "      <td>1</td>\n",
       "      <td>双汇发展</td>\n",
       "    </tr>\n",
       "    <tr>\n",
       "      <th>833</th>\n",
       "      <td>sz.000898</td>\n",
       "      <td>1</td>\n",
       "      <td>鞍钢股份</td>\n",
       "    </tr>\n",
       "    <tr>\n",
       "      <th>834</th>\n",
       "      <td>sz.000899</td>\n",
       "      <td>1</td>\n",
       "      <td>赣能股份</td>\n",
       "    </tr>\n",
       "    <tr>\n",
       "      <th>835</th>\n",
       "      <td>sz.001696</td>\n",
       "      <td>1</td>\n",
       "      <td>宗申动力</td>\n",
       "    </tr>\n",
       "    <tr>\n",
       "      <th>836</th>\n",
       "      <td>sz.001896</td>\n",
       "      <td>1</td>\n",
       "      <td>豫能控股</td>\n",
       "    </tr>\n",
       "  </tbody>\n",
       "</table>\n",
       "<p>829 rows × 3 columns</p>\n",
       "</div>"
      ],
      "text/plain": [
       "          code tradeStatus code_name\n",
       "8    sh.600001           1      邯郸钢铁\n",
       "9    sh.600002           1      齐鲁石化\n",
       "10   sh.600009           1      上海机场\n",
       "11   sh.600051           1      宁波联合\n",
       "12   sh.600052           1      浙江广厦\n",
       "..         ...         ...       ...\n",
       "832  sz.000895           1      双汇发展\n",
       "833  sz.000898           1      鞍钢股份\n",
       "834  sz.000899           1      赣能股份\n",
       "835  sz.001696           1      宗申动力\n",
       "836  sz.001896           1      豫能控股\n",
       "\n",
       "[829 rows x 3 columns]"
      ]
     },
     "execution_count": 88,
     "metadata": {},
     "output_type": "execute_result"
    }
   ],
   "source": [
    "df[df['code_name'].str.contains('指数') == False]"
   ]
  },
  {
   "cell_type": "code",
   "execution_count": 89,
   "id": "b47dcba0-ef58-44a1-bfaf-c83e4cb14518",
   "metadata": {},
   "outputs": [
    {
     "data": {
      "text/html": [
       "<div>\n",
       "<style scoped>\n",
       "    .dataframe tbody tr th:only-of-type {\n",
       "        vertical-align: middle;\n",
       "    }\n",
       "\n",
       "    .dataframe tbody tr th {\n",
       "        vertical-align: top;\n",
       "    }\n",
       "\n",
       "    .dataframe thead th {\n",
       "        text-align: right;\n",
       "    }\n",
       "</style>\n",
       "<table border=\"1\" class=\"dataframe\">\n",
       "  <thead>\n",
       "    <tr style=\"text-align: right;\">\n",
       "      <th></th>\n",
       "      <th>code</th>\n",
       "      <th>tradeStatus</th>\n",
       "      <th>code_name</th>\n",
       "    </tr>\n",
       "  </thead>\n",
       "  <tbody>\n",
       "    <tr>\n",
       "      <th>0</th>\n",
       "      <td>sh.000001</td>\n",
       "      <td>1</td>\n",
       "      <td>上证综合指数</td>\n",
       "    </tr>\n",
       "    <tr>\n",
       "      <th>1</th>\n",
       "      <td>sh.000002</td>\n",
       "      <td>1</td>\n",
       "      <td>上证A股指数</td>\n",
       "    </tr>\n",
       "    <tr>\n",
       "      <th>2</th>\n",
       "      <td>sh.000003</td>\n",
       "      <td>1</td>\n",
       "      <td>上证B股指数</td>\n",
       "    </tr>\n",
       "    <tr>\n",
       "      <th>3</th>\n",
       "      <td>sh.000004</td>\n",
       "      <td>1</td>\n",
       "      <td>上证工业类指数</td>\n",
       "    </tr>\n",
       "    <tr>\n",
       "      <th>4</th>\n",
       "      <td>sh.000005</td>\n",
       "      <td>1</td>\n",
       "      <td>上证商业类指数</td>\n",
       "    </tr>\n",
       "    <tr>\n",
       "      <th>...</th>\n",
       "      <td>...</td>\n",
       "      <td>...</td>\n",
       "      <td>...</td>\n",
       "    </tr>\n",
       "    <tr>\n",
       "      <th>838</th>\n",
       "      <td>sz.399002</td>\n",
       "      <td>1</td>\n",
       "      <td>深证成份指数(收益)</td>\n",
       "    </tr>\n",
       "    <tr>\n",
       "      <th>839</th>\n",
       "      <td>sz.399003</td>\n",
       "      <td>1</td>\n",
       "      <td>深证成份B股指数</td>\n",
       "    </tr>\n",
       "    <tr>\n",
       "      <th>840</th>\n",
       "      <td>sz.399106</td>\n",
       "      <td>1</td>\n",
       "      <td>深证综合指数</td>\n",
       "    </tr>\n",
       "    <tr>\n",
       "      <th>841</th>\n",
       "      <td>sz.399107</td>\n",
       "      <td>1</td>\n",
       "      <td>深证A股指数</td>\n",
       "    </tr>\n",
       "    <tr>\n",
       "      <th>842</th>\n",
       "      <td>sz.399108</td>\n",
       "      <td>1</td>\n",
       "      <td>深证B股指数</td>\n",
       "    </tr>\n",
       "  </tbody>\n",
       "</table>\n",
       "<p>843 rows × 3 columns</p>\n",
       "</div>"
      ],
      "text/plain": [
       "          code tradeStatus   code_name\n",
       "0    sh.000001           1      上证综合指数\n",
       "1    sh.000002           1      上证A股指数\n",
       "2    sh.000003           1      上证B股指数\n",
       "3    sh.000004           1     上证工业类指数\n",
       "4    sh.000005           1     上证商业类指数\n",
       "..         ...         ...         ...\n",
       "838  sz.399002           1  深证成份指数(收益)\n",
       "839  sz.399003           1    深证成份B股指数\n",
       "840  sz.399106           1      深证综合指数\n",
       "841  sz.399107           1      深证A股指数\n",
       "842  sz.399108           1      深证B股指数\n",
       "\n",
       "[843 rows x 3 columns]"
      ]
     },
     "execution_count": 89,
     "metadata": {},
     "output_type": "execute_result"
    }
   ],
   "source": [
    "df"
   ]
  },
  {
   "cell_type": "code",
   "execution_count": 92,
   "id": "e1ee3f19-0e3e-4b66-abdc-01d9b6b0c847",
   "metadata": {},
   "outputs": [
    {
     "name": "stdout",
     "output_type": "stream",
     "text": [
      "login success!\n"
     ]
    }
   ],
   "source": [
    "bs.login()\n",
    "\n",
    "rs = bs.query_trade_dates(start_date=start_date, end_date=end_date)\n",
    "print_error(rs)\n",
    "df = rs.get_data()\n",
    "trading_day = df[df['is_trading_day'] == '1']['calendar_date']"
   ]
  },
  {
   "cell_type": "code",
   "execution_count": 95,
   "id": "a458de54-88ab-4381-b1e2-96e05fb4699b",
   "metadata": {},
   "outputs": [
    {
     "data": {
      "text/plain": [
       "3       1999-01-04\n",
       "18      1999-01-19\n",
       "33      1999-02-03\n",
       "67      1999-03-09\n",
       "82      1999-03-24\n",
       "           ...    \n",
       "8148    2021-04-23\n",
       "8168    2021-05-13\n",
       "8183    2021-05-28\n",
       "8201    2021-06-15\n",
       "8216    2021-06-30\n",
       "Name: calendar_date, Length: 496, dtype: object"
      ]
     },
     "execution_count": 95,
     "metadata": {},
     "output_type": "execute_result"
    }
   ],
   "source": [
    "trading_day[0::11]"
   ]
  },
  {
   "cell_type": "code",
   "execution_count": null,
   "id": "18c01fee-4912-41c2-bf99-04206108f22a",
   "metadata": {},
   "outputs": [],
   "source": []
  }
 ],
 "metadata": {
  "kernelspec": {
   "display_name": "Python 3",
   "language": "python",
   "name": "python3"
  },
  "language_info": {
   "codemirror_mode": {
    "name": "ipython",
    "version": 3
   },
   "file_extension": ".py",
   "mimetype": "text/x-python",
   "name": "python",
   "nbconvert_exporter": "python",
   "pygments_lexer": "ipython3",
   "version": "3.9.2"
  }
 },
 "nbformat": 4,
 "nbformat_minor": 5
}
