{
 "cells": [
  {
   "cell_type": "markdown",
   "metadata": {},
   "source": [
    "##### Trend Template\n",
    "1. The current stock price is above both the 150-day (30-week) and the 200-day (40-week) moving average price lines.\n",
    "2. The 150-day moving average is above the 200-day moving average.\n",
    "3. The 200-day moving average line is trending up for at least 1 month (preferably 4–5 months minimum in most cases).\n",
    "4. The 50-day (10-week) moving average is above both the 150-day and 200-day moving averages.\n",
    "5. The current stock price is trading above the 50-day moving average.\n",
    "6. The current stock price is at least 30 percent above its 52-week low. (Many of the best selections will be 100 percent, 300 percent, or greater above their 52-week low before they emerge from a solid consolidation period and mount a large scale advance.)\n",
    "7. The current stock price is within at least 25 percent of its 52-week high (the closer to a new high the better).\n",
    "8. The relative strength ranking (as reported in Investor’s Business Daily) is no less than 70, and preferably in the 80s or 90s, which will generally be the case with the better selections."
   ]
  },
  {
   "cell_type": "code",
   "execution_count": 2,
   "metadata": {},
   "outputs": [],
   "source": [
    "import baostock as bs\n",
    "import nbformat as nbf\n",
    "import pandas as pd\n",
    "import talib\n",
    "import time\n",
    "import random\n",
    "from tqdm import tqdm"
   ]
  },
  {
   "cell_type": "code",
   "execution_count": 3,
   "metadata": {},
   "outputs": [],
   "source": [
    "START_DATE = '2010-01-01'"
   ]
  },
  {
   "cell_type": "code",
   "execution_count": 4,
   "metadata": {},
   "outputs": [
    {
     "name": "stdout",
     "output_type": "stream",
     "text": [
      "login success!\n",
      "Get 4077 stocks.\n",
      "logout success!\n"
     ]
    },
    {
     "data": {
      "text/plain": [
       "<baostock.data.resultset.ResultData at 0x7fb6e872baf0>"
      ]
     },
     "execution_count": 4,
     "metadata": {},
     "output_type": "execute_result"
    }
   ],
   "source": [
    "# get all stock code\n",
    "bs.login()\n",
    "rs = bs.query_stock_basic()\n",
    "data_list = []\n",
    "while rs.error_code == '0' and rs.next():\n",
    "    data_list.append(rs.get_row_data())\n",
    "result = pd.DataFrame(data_list, columns=rs.fields)\n",
    "codes = result.query('type==\"1\" and status==\"1\"')['code']\n",
    "print('Get', len(codes), 'stocks.')"
   ]
  },
  {
   "cell_type": "code",
   "execution_count": 5,
   "metadata": {},
   "outputs": [
    {
     "name": "stderr",
     "output_type": "stream",
     "text": [
      "  0%|          | 0/4077 [00:00<?, ?it/s]"
     ]
    },
    {
     "name": "stdout",
     "output_type": "stream",
     "text": [
      "login success!\n"
     ]
    },
    {
     "name": "stderr",
     "output_type": "stream",
     "text": [
      "100%|██████████| 4077/4077 [20:19<00:00,  3.34it/s]  \n"
     ]
    },
    {
     "name": "stdout",
     "output_type": "stream",
     "text": [
      "logout success!\n",
      "Get 665 candidates.\n"
     ]
    }
   ],
   "source": [
    "candidate = []\n",
    "for i, code in enumerate(tqdm(codes)):\n",
    "    rs = bs.query_history_k_data_plus(code, \"date,close\", start_date=START_DATE, frequency='d', adjustflag='2')\n",
    "    data_list = []\n",
    "    while (rs.error_code == '0') & rs.next():\n",
    "        data_list.append(rs.get_row_data())\n",
    "    result = pd.DataFrame(data_list, columns=rs.fields)\n",
    "    close = result['close'].astype('float64')\n",
    "    sma50 = talib.SMA(close, 50)\n",
    "    sma150 = talib.SMA(close, 150)\n",
    "    sma200 = talib.SMA(close, 200)\n",
    "    delta = 0\n",
    "    while True:\n",
    "        if delta + 52*5 >= len(close):\n",
    "            break\n",
    "        close52 = close[-delta-52*5:][:52*5]\n",
    "        close52low = close52.min()\n",
    "        close52high = close52.max()\n",
    "        match = False\n",
    "        if close.iloc[-delta-1] > sma50.iloc[-delta-1] > sma150.iloc[-delta-1] > sma200.iloc[-delta-1]:\n",
    "            if (sma200.pct_change()[-delta-20:][:20] > 0).all():\n",
    "                if close.iloc[-delta-1] > close52low * 1.30 and close.iloc[-delta-1] > close52high * 0.75:\n",
    "                    delta += 1\n",
    "                    match = True\n",
    "        if not match:\n",
    "            break\n",
    "            \n",
    "    if delta > 0:\n",
    "        candidate.append((code, delta, close.iloc[-1], sma50.iloc[-1], sma150.iloc[-1], sma200.iloc[-1], close52low, close52high))\n",
    "    \n",
    "    if i % 100 == 0:\n",
    "        time.sleep(random.random())\n",
    "\n",
    "bs.logout()\n",
    "\n",
    "print('Get', len(candidate), 'candidates.')\n",
    "result = pd.DataFrame(candidate, columns=('code', 'delta', 'close', 'sma50', 'sma150', 'sma200', '52low', '52high'))\n",
    "# result.sort_values(['delta'])\n",
    "\n",
    "result['code'].to_csv('stock_list.csv', index=False, header=False)"
   ]
  }
 ],
 "metadata": {
  "kernelspec": {
   "display_name": "Python 3",
   "language": "python",
   "name": "python3"
  },
  "language_info": {
   "codemirror_mode": {
    "name": "ipython",
    "version": 3
   },
   "file_extension": ".py",
   "mimetype": "text/x-python",
   "name": "python",
   "nbconvert_exporter": "python",
   "pygments_lexer": "ipython3",
   "version": "3.8.3"
  }
 },
 "nbformat": 4,
 "nbformat_minor": 4
}
