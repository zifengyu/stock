{
 "cells": [
  {
   "cell_type": "code",
   "execution_count": 1,
   "metadata": {},
   "outputs": [],
   "source": [
    "%load_ext autoreload\n",
    "%autoreload 2\n",
    "\n",
    "import pandas as pd\n",
    "import script.data as data"
   ]
  },
  {
   "cell_type": "code",
   "execution_count": 2,
   "metadata": {},
   "outputs": [
    {
     "name": "stdout",
     "output_type": "stream",
     "text": [
      "155\n",
      "147\n"
     ]
    },
    {
     "data": {
      "text/plain": [
       "{'000975',\n",
       " '002216',\n",
       " '002371',\n",
       " '002475',\n",
       " '002541',\n",
       " '002768',\n",
       " '002803',\n",
       " '002821',\n",
       " '601100',\n",
       " '603127',\n",
       " '603613',\n",
       " '603713',\n",
       " '603737',\n",
       " '605168',\n",
       " '688002',\n",
       " '688026',\n",
       " '688111',\n",
       " '688166',\n",
       " '688399',\n",
       " '688598'}"
      ]
     },
     "execution_count": 2,
     "metadata": {},
     "output_type": "execute_result"
    }
   ],
   "source": [
    "# 连续year，净利润增长>25%\n",
    "year = 3\n",
    "delta = 0\n",
    "df = data.get_IS()\n",
    "grouped = df.groupby('股票代码')\n",
    "iq_tickers = []\n",
    "for t, group in grouped:\n",
    "    if len(group) > year+delta and group['归属于母公司所有者的净利润'].pct_change(periods=-1)[delta:delta+year].min() > 0.25:\n",
    "        last = group\n",
    "        if not t.startswith('A') and not t.startswith('300') and not t.startswith('900'):\n",
    "            iq_tickers.append(t)\n",
    "print(len(iq_tickers))\n",
    "\n",
    "# quarter，收入/净利润增长>25%\n",
    "quarter = 2\n",
    "delta = 0\n",
    "\n",
    "isq = data.get_ISQ()\n",
    "grouped = isq.groupby('股票代码')\n",
    "isq_tickers = []\n",
    "for t, group in grouped:\n",
    "    if (len(group) >= quarter+delta+4 and \n",
    "        group['归属于母公司所有者的净利润'].pct_change(periods=-4)[delta:quarter+delta].min() > 0.25 and \n",
    "        group['营业收入'].pct_change(periods=-4)[delta:quarter+delta].min() > 0.25):\n",
    "        last = group\n",
    "        if not t.startswith('A') and not t.startswith('300') and not t.startswith('900'):\n",
    "            isq_tickers.append(t)\n",
    "print(len(isq_tickers))\n",
    "\n",
    "set(isq_tickers).intersection(set(iq_tickers))"
   ]
  },
  {
   "cell_type": "code",
   "execution_count": null,
   "metadata": {},
   "outputs": [],
   "source": []
  }
 ],
 "metadata": {
  "kernelspec": {
   "display_name": "Python 3",
   "language": "python",
   "name": "python3"
  },
  "language_info": {
   "codemirror_mode": {
    "name": "ipython",
    "version": 3
   },
   "file_extension": ".py",
   "mimetype": "text/x-python",
   "name": "python",
   "nbconvert_exporter": "python",
   "pygments_lexer": "ipython3",
   "version": "3.9.2"
  }
 },
 "nbformat": 4,
 "nbformat_minor": 4
}
